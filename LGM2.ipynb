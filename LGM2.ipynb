{
  "nbformat": 4,
  "nbformat_minor": 0,
  "metadata": {
    "colab": {
      "provenance": []
    },
    "kernelspec": {
      "name": "python3",
      "display_name": "Python 3"
    },
    "language_info": {
      "name": "python"
    }
  },
  "cells": [
    {
      "cell_type": "code",
      "execution_count": null,
      "metadata": {
        "id": "A3bZp3xWaPlp"
      },
      "outputs": [],
      "source": [
        "import pandas as pd\n",
        "import numpy as np\n",
        "import seaborn as sns\n",
        "import matplotlib.pyplot as plt\n",
        "%matplotlib inline"
      ]
    },
    {
      "cell_type": "code",
      "source": [
        "df =pd.read_csv(\"https://raw.githubusercontent.com/mwitiderrick/stockprice/master/NSE-TATAGLOBAL.csv\")"
      ],
      "metadata": {
        "id": "6B02H9bvaz1u"
      },
      "execution_count": null,
      "outputs": []
    },
    {
      "cell_type": "code",
      "source": [
        "df.info()"
      ],
      "metadata": {
        "colab": {
          "base_uri": "https://localhost:8080/"
        },
        "id": "uABznc04a6WH",
        "outputId": "bea256c1-f20d-41b5-fda7-fc550816abfa"
      },
      "execution_count": null,
      "outputs": [
        {
          "output_type": "stream",
          "name": "stdout",
          "text": [
            "<class 'pandas.core.frame.DataFrame'>\n",
            "RangeIndex: 2035 entries, 0 to 2034\n",
            "Data columns (total 8 columns):\n",
            " #   Column                Non-Null Count  Dtype  \n",
            "---  ------                --------------  -----  \n",
            " 0   Date                  2035 non-null   object \n",
            " 1   Open                  2035 non-null   float64\n",
            " 2   High                  2035 non-null   float64\n",
            " 3   Low                   2035 non-null   float64\n",
            " 4   Last                  2035 non-null   float64\n",
            " 5   Close                 2035 non-null   float64\n",
            " 6   Total Trade Quantity  2035 non-null   int64  \n",
            " 7   Turnover (Lacs)       2035 non-null   float64\n",
            "dtypes: float64(6), int64(1), object(1)\n",
            "memory usage: 127.3+ KB\n"
          ]
        }
      ]
    },
    {
      "cell_type": "code",
      "source": [
        "df.describe()"
      ],
      "metadata": {
        "colab": {
          "base_uri": "https://localhost:8080/",
          "height": 300
        },
        "id": "3HwpQV_ya-g2",
        "outputId": "32220c60-2ad8-4d0c-8931-4157214e13fa"
      },
      "execution_count": null,
      "outputs": [
        {
          "output_type": "execute_result",
          "data": {
            "text/plain": [
              "              Open         High          Low         Last       Close  \\\n",
              "count  2035.000000  2035.000000  2035.000000  2035.000000  2035.00000   \n",
              "mean    149.713735   151.992826   147.293931   149.474251   149.45027   \n",
              "std      48.664509    49.413109    47.931958    48.732570    48.71204   \n",
              "min      81.100000    82.800000    80.000000    81.000000    80.95000   \n",
              "25%     120.025000   122.100000   118.300000   120.075000   120.05000   \n",
              "50%     141.500000   143.400000   139.600000   141.100000   141.25000   \n",
              "75%     157.175000   159.400000   155.150000   156.925000   156.90000   \n",
              "max     327.700000   328.750000   321.650000   325.950000   325.75000   \n",
              "\n",
              "       Total Trade Quantity  Turnover (Lacs)  \n",
              "count          2.035000e+03      2035.000000  \n",
              "mean           2.335681e+06      3899.980565  \n",
              "std            2.091778e+06      4570.767877  \n",
              "min            3.961000e+04        37.040000  \n",
              "25%            1.146444e+06      1427.460000  \n",
              "50%            1.783456e+06      2512.030000  \n",
              "75%            2.813594e+06      4539.015000  \n",
              "max            2.919102e+07     55755.080000  "
            ],
            "text/html": [
              "\n",
              "  <div id=\"df-f5529d38-e85b-40dc-9a40-9593a4e8e2a9\">\n",
              "    <div class=\"colab-df-container\">\n",
              "      <div>\n",
              "<style scoped>\n",
              "    .dataframe tbody tr th:only-of-type {\n",
              "        vertical-align: middle;\n",
              "    }\n",
              "\n",
              "    .dataframe tbody tr th {\n",
              "        vertical-align: top;\n",
              "    }\n",
              "\n",
              "    .dataframe thead th {\n",
              "        text-align: right;\n",
              "    }\n",
              "</style>\n",
              "<table border=\"1\" class=\"dataframe\">\n",
              "  <thead>\n",
              "    <tr style=\"text-align: right;\">\n",
              "      <th></th>\n",
              "      <th>Open</th>\n",
              "      <th>High</th>\n",
              "      <th>Low</th>\n",
              "      <th>Last</th>\n",
              "      <th>Close</th>\n",
              "      <th>Total Trade Quantity</th>\n",
              "      <th>Turnover (Lacs)</th>\n",
              "    </tr>\n",
              "  </thead>\n",
              "  <tbody>\n",
              "    <tr>\n",
              "      <th>count</th>\n",
              "      <td>2035.000000</td>\n",
              "      <td>2035.000000</td>\n",
              "      <td>2035.000000</td>\n",
              "      <td>2035.000000</td>\n",
              "      <td>2035.00000</td>\n",
              "      <td>2.035000e+03</td>\n",
              "      <td>2035.000000</td>\n",
              "    </tr>\n",
              "    <tr>\n",
              "      <th>mean</th>\n",
              "      <td>149.713735</td>\n",
              "      <td>151.992826</td>\n",
              "      <td>147.293931</td>\n",
              "      <td>149.474251</td>\n",
              "      <td>149.45027</td>\n",
              "      <td>2.335681e+06</td>\n",
              "      <td>3899.980565</td>\n",
              "    </tr>\n",
              "    <tr>\n",
              "      <th>std</th>\n",
              "      <td>48.664509</td>\n",
              "      <td>49.413109</td>\n",
              "      <td>47.931958</td>\n",
              "      <td>48.732570</td>\n",
              "      <td>48.71204</td>\n",
              "      <td>2.091778e+06</td>\n",
              "      <td>4570.767877</td>\n",
              "    </tr>\n",
              "    <tr>\n",
              "      <th>min</th>\n",
              "      <td>81.100000</td>\n",
              "      <td>82.800000</td>\n",
              "      <td>80.000000</td>\n",
              "      <td>81.000000</td>\n",
              "      <td>80.95000</td>\n",
              "      <td>3.961000e+04</td>\n",
              "      <td>37.040000</td>\n",
              "    </tr>\n",
              "    <tr>\n",
              "      <th>25%</th>\n",
              "      <td>120.025000</td>\n",
              "      <td>122.100000</td>\n",
              "      <td>118.300000</td>\n",
              "      <td>120.075000</td>\n",
              "      <td>120.05000</td>\n",
              "      <td>1.146444e+06</td>\n",
              "      <td>1427.460000</td>\n",
              "    </tr>\n",
              "    <tr>\n",
              "      <th>50%</th>\n",
              "      <td>141.500000</td>\n",
              "      <td>143.400000</td>\n",
              "      <td>139.600000</td>\n",
              "      <td>141.100000</td>\n",
              "      <td>141.25000</td>\n",
              "      <td>1.783456e+06</td>\n",
              "      <td>2512.030000</td>\n",
              "    </tr>\n",
              "    <tr>\n",
              "      <th>75%</th>\n",
              "      <td>157.175000</td>\n",
              "      <td>159.400000</td>\n",
              "      <td>155.150000</td>\n",
              "      <td>156.925000</td>\n",
              "      <td>156.90000</td>\n",
              "      <td>2.813594e+06</td>\n",
              "      <td>4539.015000</td>\n",
              "    </tr>\n",
              "    <tr>\n",
              "      <th>max</th>\n",
              "      <td>327.700000</td>\n",
              "      <td>328.750000</td>\n",
              "      <td>321.650000</td>\n",
              "      <td>325.950000</td>\n",
              "      <td>325.75000</td>\n",
              "      <td>2.919102e+07</td>\n",
              "      <td>55755.080000</td>\n",
              "    </tr>\n",
              "  </tbody>\n",
              "</table>\n",
              "</div>\n",
              "      <button class=\"colab-df-convert\" onclick=\"convertToInteractive('df-f5529d38-e85b-40dc-9a40-9593a4e8e2a9')\"\n",
              "              title=\"Convert this dataframe to an interactive table.\"\n",
              "              style=\"display:none;\">\n",
              "        \n",
              "  <svg xmlns=\"http://www.w3.org/2000/svg\" height=\"24px\"viewBox=\"0 0 24 24\"\n",
              "       width=\"24px\">\n",
              "    <path d=\"M0 0h24v24H0V0z\" fill=\"none\"/>\n",
              "    <path d=\"M18.56 5.44l.94 2.06.94-2.06 2.06-.94-2.06-.94-.94-2.06-.94 2.06-2.06.94zm-11 1L8.5 8.5l.94-2.06 2.06-.94-2.06-.94L8.5 2.5l-.94 2.06-2.06.94zm10 10l.94 2.06.94-2.06 2.06-.94-2.06-.94-.94-2.06-.94 2.06-2.06.94z\"/><path d=\"M17.41 7.96l-1.37-1.37c-.4-.4-.92-.59-1.43-.59-.52 0-1.04.2-1.43.59L10.3 9.45l-7.72 7.72c-.78.78-.78 2.05 0 2.83L4 21.41c.39.39.9.59 1.41.59.51 0 1.02-.2 1.41-.59l7.78-7.78 2.81-2.81c.8-.78.8-2.07 0-2.86zM5.41 20L4 18.59l7.72-7.72 1.47 1.35L5.41 20z\"/>\n",
              "  </svg>\n",
              "      </button>\n",
              "      \n",
              "  <style>\n",
              "    .colab-df-container {\n",
              "      display:flex;\n",
              "      flex-wrap:wrap;\n",
              "      gap: 12px;\n",
              "    }\n",
              "\n",
              "    .colab-df-convert {\n",
              "      background-color: #E8F0FE;\n",
              "      border: none;\n",
              "      border-radius: 50%;\n",
              "      cursor: pointer;\n",
              "      display: none;\n",
              "      fill: #1967D2;\n",
              "      height: 32px;\n",
              "      padding: 0 0 0 0;\n",
              "      width: 32px;\n",
              "    }\n",
              "\n",
              "    .colab-df-convert:hover {\n",
              "      background-color: #E2EBFA;\n",
              "      box-shadow: 0px 1px 2px rgba(60, 64, 67, 0.3), 0px 1px 3px 1px rgba(60, 64, 67, 0.15);\n",
              "      fill: #174EA6;\n",
              "    }\n",
              "\n",
              "    [theme=dark] .colab-df-convert {\n",
              "      background-color: #3B4455;\n",
              "      fill: #D2E3FC;\n",
              "    }\n",
              "\n",
              "    [theme=dark] .colab-df-convert:hover {\n",
              "      background-color: #434B5C;\n",
              "      box-shadow: 0px 1px 3px 1px rgba(0, 0, 0, 0.15);\n",
              "      filter: drop-shadow(0px 1px 2px rgba(0, 0, 0, 0.3));\n",
              "      fill: #FFFFFF;\n",
              "    }\n",
              "  </style>\n",
              "\n",
              "      <script>\n",
              "        const buttonEl =\n",
              "          document.querySelector('#df-f5529d38-e85b-40dc-9a40-9593a4e8e2a9 button.colab-df-convert');\n",
              "        buttonEl.style.display =\n",
              "          google.colab.kernel.accessAllowed ? 'block' : 'none';\n",
              "\n",
              "        async function convertToInteractive(key) {\n",
              "          const element = document.querySelector('#df-f5529d38-e85b-40dc-9a40-9593a4e8e2a9');\n",
              "          const dataTable =\n",
              "            await google.colab.kernel.invokeFunction('convertToInteractive',\n",
              "                                                     [key], {});\n",
              "          if (!dataTable) return;\n",
              "\n",
              "          const docLinkHtml = 'Like what you see? Visit the ' +\n",
              "            '<a target=\"_blank\" href=https://colab.research.google.com/notebooks/data_table.ipynb>data table notebook</a>'\n",
              "            + ' to learn more about interactive tables.';\n",
              "          element.innerHTML = '';\n",
              "          dataTable['output_type'] = 'display_data';\n",
              "          await google.colab.output.renderOutput(dataTable, element);\n",
              "          const docLink = document.createElement('div');\n",
              "          docLink.innerHTML = docLinkHtml;\n",
              "          element.appendChild(docLink);\n",
              "        }\n",
              "      </script>\n",
              "    </div>\n",
              "  </div>\n",
              "  "
            ]
          },
          "metadata": {},
          "execution_count": 4
        }
      ]
    },
    {
      "cell_type": "code",
      "source": [
        "df.head()"
      ],
      "metadata": {
        "colab": {
          "base_uri": "https://localhost:8080/",
          "height": 206
        },
        "id": "pcJJX_11bEEQ",
        "outputId": "630cb076-3858-4d3b-b01f-1f674281485d"
      },
      "execution_count": null,
      "outputs": [
        {
          "output_type": "execute_result",
          "data": {
            "text/plain": [
              "         Date    Open    High     Low    Last   Close  Total Trade Quantity  \\\n",
              "0  2018-09-28  234.05  235.95  230.20  233.50  233.75               3069914   \n",
              "1  2018-09-27  234.55  236.80  231.10  233.80  233.25               5082859   \n",
              "2  2018-09-26  240.00  240.00  232.50  235.00  234.25               2240909   \n",
              "3  2018-09-25  233.30  236.75  232.00  236.25  236.10               2349368   \n",
              "4  2018-09-24  233.55  239.20  230.75  234.00  233.30               3423509   \n",
              "\n",
              "   Turnover (Lacs)  \n",
              "0          7162.35  \n",
              "1         11859.95  \n",
              "2          5248.60  \n",
              "3          5503.90  \n",
              "4          7999.55  "
            ],
            "text/html": [
              "\n",
              "  <div id=\"df-ddc78ec1-1f05-46b8-881b-bd67c8a86556\">\n",
              "    <div class=\"colab-df-container\">\n",
              "      <div>\n",
              "<style scoped>\n",
              "    .dataframe tbody tr th:only-of-type {\n",
              "        vertical-align: middle;\n",
              "    }\n",
              "\n",
              "    .dataframe tbody tr th {\n",
              "        vertical-align: top;\n",
              "    }\n",
              "\n",
              "    .dataframe thead th {\n",
              "        text-align: right;\n",
              "    }\n",
              "</style>\n",
              "<table border=\"1\" class=\"dataframe\">\n",
              "  <thead>\n",
              "    <tr style=\"text-align: right;\">\n",
              "      <th></th>\n",
              "      <th>Date</th>\n",
              "      <th>Open</th>\n",
              "      <th>High</th>\n",
              "      <th>Low</th>\n",
              "      <th>Last</th>\n",
              "      <th>Close</th>\n",
              "      <th>Total Trade Quantity</th>\n",
              "      <th>Turnover (Lacs)</th>\n",
              "    </tr>\n",
              "  </thead>\n",
              "  <tbody>\n",
              "    <tr>\n",
              "      <th>0</th>\n",
              "      <td>2018-09-28</td>\n",
              "      <td>234.05</td>\n",
              "      <td>235.95</td>\n",
              "      <td>230.20</td>\n",
              "      <td>233.50</td>\n",
              "      <td>233.75</td>\n",
              "      <td>3069914</td>\n",
              "      <td>7162.35</td>\n",
              "    </tr>\n",
              "    <tr>\n",
              "      <th>1</th>\n",
              "      <td>2018-09-27</td>\n",
              "      <td>234.55</td>\n",
              "      <td>236.80</td>\n",
              "      <td>231.10</td>\n",
              "      <td>233.80</td>\n",
              "      <td>233.25</td>\n",
              "      <td>5082859</td>\n",
              "      <td>11859.95</td>\n",
              "    </tr>\n",
              "    <tr>\n",
              "      <th>2</th>\n",
              "      <td>2018-09-26</td>\n",
              "      <td>240.00</td>\n",
              "      <td>240.00</td>\n",
              "      <td>232.50</td>\n",
              "      <td>235.00</td>\n",
              "      <td>234.25</td>\n",
              "      <td>2240909</td>\n",
              "      <td>5248.60</td>\n",
              "    </tr>\n",
              "    <tr>\n",
              "      <th>3</th>\n",
              "      <td>2018-09-25</td>\n",
              "      <td>233.30</td>\n",
              "      <td>236.75</td>\n",
              "      <td>232.00</td>\n",
              "      <td>236.25</td>\n",
              "      <td>236.10</td>\n",
              "      <td>2349368</td>\n",
              "      <td>5503.90</td>\n",
              "    </tr>\n",
              "    <tr>\n",
              "      <th>4</th>\n",
              "      <td>2018-09-24</td>\n",
              "      <td>233.55</td>\n",
              "      <td>239.20</td>\n",
              "      <td>230.75</td>\n",
              "      <td>234.00</td>\n",
              "      <td>233.30</td>\n",
              "      <td>3423509</td>\n",
              "      <td>7999.55</td>\n",
              "    </tr>\n",
              "  </tbody>\n",
              "</table>\n",
              "</div>\n",
              "      <button class=\"colab-df-convert\" onclick=\"convertToInteractive('df-ddc78ec1-1f05-46b8-881b-bd67c8a86556')\"\n",
              "              title=\"Convert this dataframe to an interactive table.\"\n",
              "              style=\"display:none;\">\n",
              "        \n",
              "  <svg xmlns=\"http://www.w3.org/2000/svg\" height=\"24px\"viewBox=\"0 0 24 24\"\n",
              "       width=\"24px\">\n",
              "    <path d=\"M0 0h24v24H0V0z\" fill=\"none\"/>\n",
              "    <path d=\"M18.56 5.44l.94 2.06.94-2.06 2.06-.94-2.06-.94-.94-2.06-.94 2.06-2.06.94zm-11 1L8.5 8.5l.94-2.06 2.06-.94-2.06-.94L8.5 2.5l-.94 2.06-2.06.94zm10 10l.94 2.06.94-2.06 2.06-.94-2.06-.94-.94-2.06-.94 2.06-2.06.94z\"/><path d=\"M17.41 7.96l-1.37-1.37c-.4-.4-.92-.59-1.43-.59-.52 0-1.04.2-1.43.59L10.3 9.45l-7.72 7.72c-.78.78-.78 2.05 0 2.83L4 21.41c.39.39.9.59 1.41.59.51 0 1.02-.2 1.41-.59l7.78-7.78 2.81-2.81c.8-.78.8-2.07 0-2.86zM5.41 20L4 18.59l7.72-7.72 1.47 1.35L5.41 20z\"/>\n",
              "  </svg>\n",
              "      </button>\n",
              "      \n",
              "  <style>\n",
              "    .colab-df-container {\n",
              "      display:flex;\n",
              "      flex-wrap:wrap;\n",
              "      gap: 12px;\n",
              "    }\n",
              "\n",
              "    .colab-df-convert {\n",
              "      background-color: #E8F0FE;\n",
              "      border: none;\n",
              "      border-radius: 50%;\n",
              "      cursor: pointer;\n",
              "      display: none;\n",
              "      fill: #1967D2;\n",
              "      height: 32px;\n",
              "      padding: 0 0 0 0;\n",
              "      width: 32px;\n",
              "    }\n",
              "\n",
              "    .colab-df-convert:hover {\n",
              "      background-color: #E2EBFA;\n",
              "      box-shadow: 0px 1px 2px rgba(60, 64, 67, 0.3), 0px 1px 3px 1px rgba(60, 64, 67, 0.15);\n",
              "      fill: #174EA6;\n",
              "    }\n",
              "\n",
              "    [theme=dark] .colab-df-convert {\n",
              "      background-color: #3B4455;\n",
              "      fill: #D2E3FC;\n",
              "    }\n",
              "\n",
              "    [theme=dark] .colab-df-convert:hover {\n",
              "      background-color: #434B5C;\n",
              "      box-shadow: 0px 1px 3px 1px rgba(0, 0, 0, 0.15);\n",
              "      filter: drop-shadow(0px 1px 2px rgba(0, 0, 0, 0.3));\n",
              "      fill: #FFFFFF;\n",
              "    }\n",
              "  </style>\n",
              "\n",
              "      <script>\n",
              "        const buttonEl =\n",
              "          document.querySelector('#df-ddc78ec1-1f05-46b8-881b-bd67c8a86556 button.colab-df-convert');\n",
              "        buttonEl.style.display =\n",
              "          google.colab.kernel.accessAllowed ? 'block' : 'none';\n",
              "\n",
              "        async function convertToInteractive(key) {\n",
              "          const element = document.querySelector('#df-ddc78ec1-1f05-46b8-881b-bd67c8a86556');\n",
              "          const dataTable =\n",
              "            await google.colab.kernel.invokeFunction('convertToInteractive',\n",
              "                                                     [key], {});\n",
              "          if (!dataTable) return;\n",
              "\n",
              "          const docLinkHtml = 'Like what you see? Visit the ' +\n",
              "            '<a target=\"_blank\" href=https://colab.research.google.com/notebooks/data_table.ipynb>data table notebook</a>'\n",
              "            + ' to learn more about interactive tables.';\n",
              "          element.innerHTML = '';\n",
              "          dataTable['output_type'] = 'display_data';\n",
              "          await google.colab.output.renderOutput(dataTable, element);\n",
              "          const docLink = document.createElement('div');\n",
              "          docLink.innerHTML = docLinkHtml;\n",
              "          element.appendChild(docLink);\n",
              "        }\n",
              "      </script>\n",
              "    </div>\n",
              "  </div>\n",
              "  "
            ]
          },
          "metadata": {},
          "execution_count": 6
        }
      ]
    },
    {
      "cell_type": "code",
      "source": [
        "df.tail()"
      ],
      "metadata": {
        "colab": {
          "base_uri": "https://localhost:8080/",
          "height": 206
        },
        "id": "OqnbtIffbGLF",
        "outputId": "e5a87ebf-6358-4d03-d949-43c44a45e4d2"
      },
      "execution_count": null,
      "outputs": [
        {
          "output_type": "execute_result",
          "data": {
            "text/plain": [
              "            Date   Open    High     Low    Last   Close  Total Trade Quantity  \\\n",
              "2030  2010-07-27  117.6  119.50  112.00  118.80  118.65                586100   \n",
              "2031  2010-07-26  120.1  121.00  117.10  117.10  117.60                658440   \n",
              "2032  2010-07-23  121.8  121.95  120.25  120.35  120.65                281312   \n",
              "2033  2010-07-22  120.3  122.00  120.25  120.75  120.90                293312   \n",
              "2034  2010-07-21  122.1  123.00  121.05  121.10  121.55                658666   \n",
              "\n",
              "      Turnover (Lacs)  \n",
              "2030           694.98  \n",
              "2031           780.01  \n",
              "2032           340.31  \n",
              "2033           355.17  \n",
              "2034           803.56  "
            ],
            "text/html": [
              "\n",
              "  <div id=\"df-799ed5e4-326e-4be6-8e85-effa1ef1399b\">\n",
              "    <div class=\"colab-df-container\">\n",
              "      <div>\n",
              "<style scoped>\n",
              "    .dataframe tbody tr th:only-of-type {\n",
              "        vertical-align: middle;\n",
              "    }\n",
              "\n",
              "    .dataframe tbody tr th {\n",
              "        vertical-align: top;\n",
              "    }\n",
              "\n",
              "    .dataframe thead th {\n",
              "        text-align: right;\n",
              "    }\n",
              "</style>\n",
              "<table border=\"1\" class=\"dataframe\">\n",
              "  <thead>\n",
              "    <tr style=\"text-align: right;\">\n",
              "      <th></th>\n",
              "      <th>Date</th>\n",
              "      <th>Open</th>\n",
              "      <th>High</th>\n",
              "      <th>Low</th>\n",
              "      <th>Last</th>\n",
              "      <th>Close</th>\n",
              "      <th>Total Trade Quantity</th>\n",
              "      <th>Turnover (Lacs)</th>\n",
              "    </tr>\n",
              "  </thead>\n",
              "  <tbody>\n",
              "    <tr>\n",
              "      <th>2030</th>\n",
              "      <td>2010-07-27</td>\n",
              "      <td>117.6</td>\n",
              "      <td>119.50</td>\n",
              "      <td>112.00</td>\n",
              "      <td>118.80</td>\n",
              "      <td>118.65</td>\n",
              "      <td>586100</td>\n",
              "      <td>694.98</td>\n",
              "    </tr>\n",
              "    <tr>\n",
              "      <th>2031</th>\n",
              "      <td>2010-07-26</td>\n",
              "      <td>120.1</td>\n",
              "      <td>121.00</td>\n",
              "      <td>117.10</td>\n",
              "      <td>117.10</td>\n",
              "      <td>117.60</td>\n",
              "      <td>658440</td>\n",
              "      <td>780.01</td>\n",
              "    </tr>\n",
              "    <tr>\n",
              "      <th>2032</th>\n",
              "      <td>2010-07-23</td>\n",
              "      <td>121.8</td>\n",
              "      <td>121.95</td>\n",
              "      <td>120.25</td>\n",
              "      <td>120.35</td>\n",
              "      <td>120.65</td>\n",
              "      <td>281312</td>\n",
              "      <td>340.31</td>\n",
              "    </tr>\n",
              "    <tr>\n",
              "      <th>2033</th>\n",
              "      <td>2010-07-22</td>\n",
              "      <td>120.3</td>\n",
              "      <td>122.00</td>\n",
              "      <td>120.25</td>\n",
              "      <td>120.75</td>\n",
              "      <td>120.90</td>\n",
              "      <td>293312</td>\n",
              "      <td>355.17</td>\n",
              "    </tr>\n",
              "    <tr>\n",
              "      <th>2034</th>\n",
              "      <td>2010-07-21</td>\n",
              "      <td>122.1</td>\n",
              "      <td>123.00</td>\n",
              "      <td>121.05</td>\n",
              "      <td>121.10</td>\n",
              "      <td>121.55</td>\n",
              "      <td>658666</td>\n",
              "      <td>803.56</td>\n",
              "    </tr>\n",
              "  </tbody>\n",
              "</table>\n",
              "</div>\n",
              "      <button class=\"colab-df-convert\" onclick=\"convertToInteractive('df-799ed5e4-326e-4be6-8e85-effa1ef1399b')\"\n",
              "              title=\"Convert this dataframe to an interactive table.\"\n",
              "              style=\"display:none;\">\n",
              "        \n",
              "  <svg xmlns=\"http://www.w3.org/2000/svg\" height=\"24px\"viewBox=\"0 0 24 24\"\n",
              "       width=\"24px\">\n",
              "    <path d=\"M0 0h24v24H0V0z\" fill=\"none\"/>\n",
              "    <path d=\"M18.56 5.44l.94 2.06.94-2.06 2.06-.94-2.06-.94-.94-2.06-.94 2.06-2.06.94zm-11 1L8.5 8.5l.94-2.06 2.06-.94-2.06-.94L8.5 2.5l-.94 2.06-2.06.94zm10 10l.94 2.06.94-2.06 2.06-.94-2.06-.94-.94-2.06-.94 2.06-2.06.94z\"/><path d=\"M17.41 7.96l-1.37-1.37c-.4-.4-.92-.59-1.43-.59-.52 0-1.04.2-1.43.59L10.3 9.45l-7.72 7.72c-.78.78-.78 2.05 0 2.83L4 21.41c.39.39.9.59 1.41.59.51 0 1.02-.2 1.41-.59l7.78-7.78 2.81-2.81c.8-.78.8-2.07 0-2.86zM5.41 20L4 18.59l7.72-7.72 1.47 1.35L5.41 20z\"/>\n",
              "  </svg>\n",
              "      </button>\n",
              "      \n",
              "  <style>\n",
              "    .colab-df-container {\n",
              "      display:flex;\n",
              "      flex-wrap:wrap;\n",
              "      gap: 12px;\n",
              "    }\n",
              "\n",
              "    .colab-df-convert {\n",
              "      background-color: #E8F0FE;\n",
              "      border: none;\n",
              "      border-radius: 50%;\n",
              "      cursor: pointer;\n",
              "      display: none;\n",
              "      fill: #1967D2;\n",
              "      height: 32px;\n",
              "      padding: 0 0 0 0;\n",
              "      width: 32px;\n",
              "    }\n",
              "\n",
              "    .colab-df-convert:hover {\n",
              "      background-color: #E2EBFA;\n",
              "      box-shadow: 0px 1px 2px rgba(60, 64, 67, 0.3), 0px 1px 3px 1px rgba(60, 64, 67, 0.15);\n",
              "      fill: #174EA6;\n",
              "    }\n",
              "\n",
              "    [theme=dark] .colab-df-convert {\n",
              "      background-color: #3B4455;\n",
              "      fill: #D2E3FC;\n",
              "    }\n",
              "\n",
              "    [theme=dark] .colab-df-convert:hover {\n",
              "      background-color: #434B5C;\n",
              "      box-shadow: 0px 1px 3px 1px rgba(0, 0, 0, 0.15);\n",
              "      filter: drop-shadow(0px 1px 2px rgba(0, 0, 0, 0.3));\n",
              "      fill: #FFFFFF;\n",
              "    }\n",
              "  </style>\n",
              "\n",
              "      <script>\n",
              "        const buttonEl =\n",
              "          document.querySelector('#df-799ed5e4-326e-4be6-8e85-effa1ef1399b button.colab-df-convert');\n",
              "        buttonEl.style.display =\n",
              "          google.colab.kernel.accessAllowed ? 'block' : 'none';\n",
              "\n",
              "        async function convertToInteractive(key) {\n",
              "          const element = document.querySelector('#df-799ed5e4-326e-4be6-8e85-effa1ef1399b');\n",
              "          const dataTable =\n",
              "            await google.colab.kernel.invokeFunction('convertToInteractive',\n",
              "                                                     [key], {});\n",
              "          if (!dataTable) return;\n",
              "\n",
              "          const docLinkHtml = 'Like what you see? Visit the ' +\n",
              "            '<a target=\"_blank\" href=https://colab.research.google.com/notebooks/data_table.ipynb>data table notebook</a>'\n",
              "            + ' to learn more about interactive tables.';\n",
              "          element.innerHTML = '';\n",
              "          dataTable['output_type'] = 'display_data';\n",
              "          await google.colab.output.renderOutput(dataTable, element);\n",
              "          const docLink = document.createElement('div');\n",
              "          docLink.innerHTML = docLinkHtml;\n",
              "          element.appendChild(docLink);\n",
              "        }\n",
              "      </script>\n",
              "    </div>\n",
              "  </div>\n",
              "  "
            ]
          },
          "metadata": {},
          "execution_count": 7
        }
      ]
    },
    {
      "cell_type": "code",
      "source": [
        "df.shape"
      ],
      "metadata": {
        "colab": {
          "base_uri": "https://localhost:8080/"
        },
        "id": "Mq4PgZ57bKQW",
        "outputId": "73f0c678-5085-4d99-dbca-e2face9832fd"
      },
      "execution_count": null,
      "outputs": [
        {
          "output_type": "execute_result",
          "data": {
            "text/plain": [
              "(2035, 8)"
            ]
          },
          "metadata": {},
          "execution_count": 8
        }
      ]
    },
    {
      "cell_type": "code",
      "source": [
        "df.size"
      ],
      "metadata": {
        "colab": {
          "base_uri": "https://localhost:8080/"
        },
        "id": "y_e-2sMFbMFM",
        "outputId": "d5d57e62-d34b-4555-bc46-581b866fec18"
      },
      "execution_count": null,
      "outputs": [
        {
          "output_type": "execute_result",
          "data": {
            "text/plain": [
              "16280"
            ]
          },
          "metadata": {},
          "execution_count": 9
        }
      ]
    },
    {
      "cell_type": "code",
      "source": [
        "df.isnull().sum()"
      ],
      "metadata": {
        "colab": {
          "base_uri": "https://localhost:8080/"
        },
        "id": "6NAe2PD3bAzL",
        "outputId": "963c9ac2-4f9a-475f-f137-51f5c1632acb"
      },
      "execution_count": null,
      "outputs": [
        {
          "output_type": "execute_result",
          "data": {
            "text/plain": [
              "Date                    0\n",
              "Open                    0\n",
              "High                    0\n",
              "Low                     0\n",
              "Last                    0\n",
              "Close                   0\n",
              "Total Trade Quantity    0\n",
              "Turnover (Lacs)         0\n",
              "dtype: int64"
            ]
          },
          "metadata": {},
          "execution_count": 5
        }
      ]
    },
    {
      "cell_type": "code",
      "source": [
        "duplicates= df.duplicated()\n",
        "duplicates.value_counts() "
      ],
      "metadata": {
        "colab": {
          "base_uri": "https://localhost:8080/"
        },
        "id": "4nBOGVscbIdt",
        "outputId": "26157800-ae41-4a2d-bfeb-8785df7322ad"
      },
      "execution_count": null,
      "outputs": [
        {
          "output_type": "execute_result",
          "data": {
            "text/plain": [
              "False    2035\n",
              "dtype: int64"
            ]
          },
          "metadata": {},
          "execution_count": 10
        }
      ]
    },
    {
      "cell_type": "code",
      "source": [
        "plt.figure(figsize=(6,6))\n",
        "sns.heatmap(df.corr(), annot=True)"
      ],
      "metadata": {
        "colab": {
          "base_uri": "https://localhost:8080/",
          "height": 485
        },
        "id": "a9DxCCjgbfFP",
        "outputId": "af486a4c-80f2-48c9-96c1-6fdbdbcea977"
      },
      "execution_count": null,
      "outputs": [
        {
          "output_type": "execute_result",
          "data": {
            "text/plain": [
              "<Axes: >"
            ]
          },
          "metadata": {},
          "execution_count": 11
        },
        {
          "output_type": "display_data",
          "data": {
            "text/plain": [
              "<Figure size 432x432 with 2 Axes>"
            ],
            "image/png": "[encoded data removed]"
          },
          "metadata": {
            "needs_background": "light"
          }
        }
      ]
    },
    {
      "cell_type": "code",
      "source": [
        "df_high=df.reset_index()['High']\n",
        "plt.plot(df_high)"
      ],
      "metadata": {
        "colab": {
          "base_uri": "https://localhost:8080/",
          "height": 282
        },
        "id": "kLQrbxv_b1TB",
        "outputId": "2f316c6f-1657-4a7c-d06d-b80758bd21c4"
      },
      "execution_count": null,
      "outputs": [
        {
          "output_type": "execute_result",
          "data": {
            "text/plain": [
              "[<matplotlib.lines.Line2D at 0x7f2b8843a730>]"
            ]
          },
          "metadata": {},
          "execution_count": 13
        },
        {
          "output_type": "display_data",
          "data": {
            "text/plain": [
              "<Figure size 432x288 with 1 Axes>"
            ],
            "image/png": "[encoded data removed]"
          },
          "metadata": {
            "needs_background": "light"
          }
        }
      ]
    },
    {
      "cell_type": "code",
      "source": [
        "from sklearn.preprocessing import MinMaxScaler\n",
        "scaler = MinMaxScaler(feature_range = (0,1))\n",
        "df_high = scaler.fit_transform(np.array(df_high).reshape(-1,1))"
      ],
      "metadata": {
        "id": "CU1YRxnJbuGl"
      },
      "execution_count": null,
      "outputs": []
    },
    {
      "cell_type": "code",
      "source": [
        "df_high.shape"
      ],
      "metadata": {
        "colab": {
          "base_uri": "https://localhost:8080/"
        },
        "id": "w5lAsTbOb3hb",
        "outputId": "974e2a9a-31c3-42f3-c09b-8eb0eef26b1a"
      },
      "execution_count": null,
      "outputs": [
        {
          "output_type": "execute_result",
          "data": {
            "text/plain": [
              "(2035, 1)"
            ]
          },
          "metadata": {},
          "execution_count": 15
        }
      ]
    },
    {
      "cell_type": "code",
      "source": [
        "#Split the data into train and test split\n",
        "training_size = int(len(df_high) * 0.75)\n",
        "test_size = len(df_high) - training_size\n",
        "train_data,test_data = df_high[0:training_size,:], df_high[training_size:len(df_high),:1]"
      ],
      "metadata": {
        "id": "5BgU2SiKb6it"
      },
      "execution_count": null,
      "outputs": []
    },
    {
      "cell_type": "code",
      "source": [
        "training_size, test_size"
      ],
      "metadata": {
        "colab": {
          "base_uri": "https://localhost:8080/"
        },
        "id": "VO6lDilQb9i8",
        "outputId": "5f2d1be1-30f9-4b45-c359-3a7263985485"
      },
      "execution_count": null,
      "outputs": [
        {
          "output_type": "execute_result",
          "data": {
            "text/plain": [
              "(1526, 509)"
            ]
          },
          "metadata": {},
          "execution_count": 17
        }
      ]
    },
    {
      "cell_type": "code",
      "source": [
        "# convert an array of values into a dataset matrix\n",
        "def create_dataset(dataset, time_step=1):\n",
        "    dataX, dataY = [], []\n",
        "    for i in range(len(dataset)-time_step-1):\n",
        "        a = dataset[i:(i+time_step), 0]  \n",
        "        dataX.append(a)\n",
        "        dataY.append(dataset[i + time_step, 0])\n",
        "    return np.array(dataX), np.array(dataY)"
      ],
      "metadata": {
        "id": "c_H2y_g-b_we"
      },
      "execution_count": null,
      "outputs": []
    },
    {
      "cell_type": "code",
      "source": [
        "time_step = 100\n",
        "x_train, y_train = create_dataset(train_data, time_step)\n",
        "x_test, y_test = create_dataset(test_data, time_step)"
      ],
      "metadata": {
        "id": "MNhPVdg_cClm"
      },
      "execution_count": null,
      "outputs": []
    },
    {
      "cell_type": "code",
      "source": [
        "#Reshape the input to be [samples, time steps, features] which is the requirement of LSTM\n",
        "x_train = x_train.reshape(x_train.shape[0], x_train.shape[1], 1)\n",
        "x_test = x_test.reshape(x_test.shape[0], x_test.shape[1], 1)"
      ],
      "metadata": {
        "id": "7rcUfpAwcFjv"
      },
      "execution_count": null,
      "outputs": []
    },
    {
      "cell_type": "code",
      "source": [
        "print(x_train.shape), print(y_train.shape)"
      ],
      "metadata": {
        "colab": {
          "base_uri": "https://localhost:8080/"
        },
        "id": "8H7jbYZhcIpF",
        "outputId": "02b1cd7a-dc8e-4db4-b884-8544d49608c2"
      },
      "execution_count": null,
      "outputs": [
        {
          "output_type": "stream",
          "name": "stdout",
          "text": [
            "(1425, 100, 1)\n",
            "(1425,)\n"
          ]
        },
        {
          "output_type": "execute_result",
          "data": {
            "text/plain": [
              "(None, None)"
            ]
          },
          "metadata": {},
          "execution_count": 21
        }
      ]
    },
    {
      "cell_type": "code",
      "source": [
        "print(x_test.shape), print(y_test.shape)"
      ],
      "metadata": {
        "colab": {
          "base_uri": "https://localhost:8080/"
        },
        "id": "sxrsVw2PcK0b",
        "outputId": "070ac663-3b4f-4f46-a083-0cfac1e68387"
      },
      "execution_count": null,
      "outputs": [
        {
          "output_type": "stream",
          "name": "stdout",
          "text": [
            "(408, 100, 1)\n",
            "(408,)\n"
          ]
        },
        {
          "output_type": "execute_result",
          "data": {
            "text/plain": [
              "(None, None)"
            ]
          },
          "metadata": {},
          "execution_count": 22
        }
      ]
    },
    {
      "cell_type": "code",
      "source": [
        "import tensorflow as tf\n",
        "from tensorflow.python.keras.models import Sequential\n",
        "from tensorflow.python.keras.layers import Dense\n",
        "from tensorflow.python.keras.layers import LSTM"
      ],
      "metadata": {
        "id": "bB8k59AfcMoy"
      },
      "execution_count": null,
      "outputs": []
    },
    {
      "cell_type": "code",
      "source": [
        "### Create the Stacked LSTM model\n",
        "model = Sequential()\n",
        "model.add(LSTM(50, return_sequences = True, input_shape = (100,1)))\n",
        "model.add(LSTM(50, return_sequences = True))\n",
        "model.add(LSTM(50))\n",
        "model.add(Dense(1))\n",
        "model.compile(loss = 'mean_squared_error', optimizer = 'adam')"
      ],
      "metadata": {
        "id": "Kt4opLzccQP7"
      },
      "execution_count": null,
      "outputs": []
    },
    {
      "cell_type": "code",
      "source": [
        "model.summary()"
      ],
      "metadata": {
        "colab": {
          "base_uri": "https://localhost:8080/"
        },
        "id": "AGv0Wh42cUGo",
        "outputId": "83949ad0-21c7-401c-8027-632a963fa37a"
      },
      "execution_count": null,
      "outputs": [
        {
          "output_type": "stream",
          "name": "stdout",
          "text": [
            "Model: \"sequential\"\n",
            "_________________________________________________________________\n",
            "Layer (type)                 Output Shape              Param #   \n",
            "=================================================================\n",
            "lstm (LSTM)                  (None, 100, 50)           10400     \n",
            "_________________________________________________________________\n",
            "lstm_1 (LSTM)                (None, 100, 50)           20200     \n",
            "_________________________________________________________________\n",
            "lstm_2 (LSTM)                (None, 50)                20200     \n",
            "_________________________________________________________________\n",
            "dense (Dense)                (None, 1)                 51        \n",
            "=================================================================\n",
            "Total params: 50,851\n",
            "Trainable params: 50,851\n",
            "Non-trainable params: 0\n",
            "_________________________________________________________________\n"
          ]
        }
      ]
    },
    {
      "cell_type": "code",
      "source": [
        "model.fit(x_train, y_train, validation_data = (x_test, y_test), epochs = 100, batch_size = 64, verbose = 1)"
      ],
      "metadata": {
        "colab": {
          "base_uri": "https://localhost:8080/"
        },
        "id": "kJF3OHW-cc2A",
        "outputId": "6f8a6268-c893-4a33-d849-025ab968145e"
      },
      "execution_count": null,
      "outputs": [
        {
          "output_type": "stream",
          "name": "stdout",
          "text": [
            "Epoch 1/100\n",
            "23/23 [==============================] - 23s 519ms/step - loss: 0.0211 - val_loss: 0.0062\n",
            "Epoch 2/100\n",
            "23/23 [==============================] - 13s 567ms/step - loss: 0.0023 - val_loss: 8.1743e-04\n",
            "Epoch 3/100\n",
            "23/23 [==============================] - 11s 479ms/step - loss: 0.0016 - val_loss: 0.0011\n",
            "Epoch 4/100\n",
            "23/23 [==============================] - 11s 477ms/step - loss: 0.0015 - val_loss: 0.0012\n",
            "Epoch 5/100\n",
            "23/23 [==============================] - 11s 478ms/step - loss: 0.0014 - val_loss: 0.0016\n",
            "Epoch 6/100\n",
            "23/23 [==============================] - 10s 432ms/step - loss: 0.0014 - val_loss: 0.0013\n",
            "Epoch 7/100\n",
            "23/23 [==============================] - 11s 452ms/step - loss: 0.0013 - val_loss: 0.0011\n",
            "Epoch 8/100\n",
            "23/23 [==============================] - 12s 531ms/step - loss: 0.0013 - val_loss: 0.0012\n",
            "Epoch 9/100\n",
            "23/23 [==============================] - 11s 487ms/step - loss: 0.0013 - val_loss: 0.0010\n",
            "Epoch 10/100\n",
            "23/23 [==============================] - 11s 478ms/step - loss: 0.0012 - val_loss: 8.9594e-04\n",
            "Epoch 11/100\n",
            "23/23 [==============================] - 11s 478ms/step - loss: 0.0011 - val_loss: 0.0012\n",
            "Epoch 12/100\n",
            "23/23 [==============================] - 11s 483ms/step - loss: 0.0012 - val_loss: 9.9335e-04\n",
            "Epoch 13/100\n",
            "23/23 [==============================] - 10s 415ms/step - loss: 9.9134e-04 - val_loss: 9.0523e-04\n",
            "Epoch 14/100\n",
            "23/23 [==============================] - 11s 477ms/step - loss: 9.8895e-04 - val_loss: 9.4713e-04\n",
            "Epoch 15/100\n",
            "23/23 [==============================] - 11s 479ms/step - loss: 0.0011 - val_loss: 9.6775e-04\n",
            "Epoch 16/100\n",
            "23/23 [==============================] - 11s 476ms/step - loss: 0.0012 - val_loss: 8.5419e-04\n",
            "Epoch 17/100\n",
            "23/23 [==============================] - 11s 477ms/step - loss: 8.9514e-04 - val_loss: 0.0012\n",
            "Epoch 18/100\n",
            "23/23 [==============================] - 11s 474ms/step - loss: 8.4139e-04 - val_loss: 7.4932e-04\n",
            "Epoch 19/100\n",
            "23/23 [==============================] - 10s 419ms/step - loss: 9.4785e-04 - val_loss: 0.0011\n",
            "Epoch 20/100\n",
            "23/23 [==============================] - 11s 476ms/step - loss: 8.0044e-04 - val_loss: 8.0362e-04\n",
            "Epoch 21/100\n",
            "23/23 [==============================] - 11s 480ms/step - loss: 7.9402e-04 - val_loss: 0.0010\n",
            "Epoch 22/100\n",
            "23/23 [==============================] - 11s 479ms/step - loss: 7.8662e-04 - val_loss: 6.9867e-04\n",
            "Epoch 23/100\n",
            "23/23 [==============================] - 11s 478ms/step - loss: 7.9234e-04 - val_loss: 6.8097e-04\n",
            "Epoch 24/100\n",
            "23/23 [==============================] - 11s 477ms/step - loss: 7.8507e-04 - val_loss: 8.0078e-04\n",
            "Epoch 25/100\n",
            "23/23 [==============================] - 10s 416ms/step - loss: 7.3983e-04 - val_loss: 6.1019e-04\n",
            "Epoch 26/100\n",
            "23/23 [==============================] - 11s 476ms/step - loss: 6.7468e-04 - val_loss: 4.7581e-04\n",
            "Epoch 27/100\n",
            "23/23 [==============================] - 11s 479ms/step - loss: 7.5188e-04 - val_loss: 7.5940e-04\n",
            "Epoch 28/100\n",
            "23/23 [==============================] - 11s 480ms/step - loss: 8.2656e-04 - val_loss: 0.0010\n",
            "Epoch 29/100\n",
            "23/23 [==============================] - 11s 482ms/step - loss: 6.6762e-04 - val_loss: 8.3027e-04\n",
            "Epoch 30/100\n",
            "23/23 [==============================] - 11s 473ms/step - loss: 6.2855e-04 - val_loss: 5.8503e-04\n",
            "Epoch 31/100\n",
            "23/23 [==============================] - 10s 418ms/step - loss: 6.8584e-04 - val_loss: 6.3839e-04\n",
            "Epoch 32/100\n",
            "23/23 [==============================] - 11s 480ms/step - loss: 6.5086e-04 - val_loss: 8.0412e-04\n",
            "Epoch 33/100\n",
            "23/23 [==============================] - 11s 479ms/step - loss: 5.8429e-04 - val_loss: 8.2091e-04\n",
            "Epoch 34/100\n",
            "23/23 [==============================] - 12s 547ms/step - loss: 5.9097e-04 - val_loss: 7.5106e-04\n",
            "Epoch 35/100\n",
            "23/23 [==============================] - 11s 479ms/step - loss: 5.6195e-04 - val_loss: 7.1197e-04\n",
            "Epoch 36/100\n",
            "23/23 [==============================] - 10s 437ms/step - loss: 6.5715e-04 - val_loss: 5.6647e-04\n",
            "Epoch 37/100\n",
            "23/23 [==============================] - 11s 446ms/step - loss: 5.6346e-04 - val_loss: 7.3872e-04\n",
            "Epoch 38/100\n",
            "23/23 [==============================] - 11s 477ms/step - loss: 5.2753e-04 - val_loss: 7.4560e-04\n",
            "Epoch 39/100\n",
            "23/23 [==============================] - 11s 478ms/step - loss: 5.3076e-04 - val_loss: 6.9201e-04\n",
            "Epoch 40/100\n",
            "23/23 [==============================] - 11s 478ms/step - loss: 5.3637e-04 - val_loss: 5.2644e-04\n",
            "Epoch 41/100\n",
            "23/23 [==============================] - 11s 480ms/step - loss: 5.5000e-04 - val_loss: 5.2064e-04\n",
            "Epoch 42/100\n",
            "23/23 [==============================] - 10s 421ms/step - loss: 4.9704e-04 - val_loss: 5.0603e-04\n",
            "Epoch 43/100\n",
            "23/23 [==============================] - 11s 462ms/step - loss: 4.6145e-04 - val_loss: 6.4915e-04\n",
            "Epoch 44/100\n",
            "23/23 [==============================] - 11s 484ms/step - loss: 5.2504e-04 - val_loss: 5.7265e-04\n",
            "Epoch 45/100\n",
            "23/23 [==============================] - 11s 479ms/step - loss: 4.5391e-04 - val_loss: 4.9995e-04\n",
            "Epoch 46/100\n",
            "23/23 [==============================] - 11s 477ms/step - loss: 4.2492e-04 - val_loss: 5.9178e-04\n",
            "Epoch 47/100\n",
            "23/23 [==============================] - 11s 475ms/step - loss: 4.1753e-04 - val_loss: 5.1230e-04\n",
            "Epoch 48/100\n",
            "23/23 [==============================] - 10s 431ms/step - loss: 4.2450e-04 - val_loss: 4.6343e-04\n",
            "Epoch 49/100\n",
            "23/23 [==============================] - 11s 455ms/step - loss: 3.9654e-04 - val_loss: 5.5935e-04\n",
            "Epoch 50/100\n",
            "23/23 [==============================] - 11s 477ms/step - loss: 4.1649e-04 - val_loss: 6.0375e-04\n",
            "Epoch 51/100\n",
            "23/23 [==============================] - 11s 474ms/step - loss: 4.4460e-04 - val_loss: 4.0967e-04\n",
            "Epoch 52/100\n",
            "23/23 [==============================] - 11s 477ms/step - loss: 3.7302e-04 - val_loss: 4.7289e-04\n",
            "Epoch 53/100\n",
            "23/23 [==============================] - 11s 475ms/step - loss: 3.5977e-04 - val_loss: 4.7481e-04\n",
            "Epoch 54/100\n",
            "23/23 [==============================] - 10s 417ms/step - loss: 3.4647e-04 - val_loss: 4.4661e-04\n",
            "Epoch 55/100\n",
            "23/23 [==============================] - 11s 461ms/step - loss: 3.4723e-04 - val_loss: 4.1412e-04\n",
            "Epoch 56/100\n",
            "23/23 [==============================] - 11s 480ms/step - loss: 3.7078e-04 - val_loss: 5.1403e-04\n",
            "Epoch 57/100\n",
            "23/23 [==============================] - 11s 479ms/step - loss: 4.2413e-04 - val_loss: 3.4333e-04\n",
            "Epoch 58/100\n",
            "23/23 [==============================] - 11s 479ms/step - loss: 3.5097e-04 - val_loss: 4.1138e-04\n",
            "Epoch 59/100\n",
            "23/23 [==============================] - 11s 478ms/step - loss: 3.4572e-04 - val_loss: 3.9578e-04\n",
            "Epoch 60/100\n",
            "23/23 [==============================] - 10s 421ms/step - loss: 3.3817e-04 - val_loss: 3.8299e-04\n",
            "Epoch 61/100\n",
            "23/23 [==============================] - 11s 464ms/step - loss: 3.5098e-04 - val_loss: 4.1636e-04\n",
            "Epoch 62/100\n",
            "23/23 [==============================] - 11s 478ms/step - loss: 2.8966e-04 - val_loss: 2.7031e-04\n",
            "Epoch 63/100\n",
            "23/23 [==============================] - 11s 478ms/step - loss: 2.8735e-04 - val_loss: 2.4531e-04\n",
            "Epoch 64/100\n",
            "23/23 [==============================] - 11s 479ms/step - loss: 3.4634e-04 - val_loss: 2.3057e-04\n",
            "Epoch 65/100\n",
            "23/23 [==============================] - 11s 479ms/step - loss: 3.4472e-04 - val_loss: 3.6758e-04\n",
            "Epoch 66/100\n",
            "23/23 [==============================] - 10s 418ms/step - loss: 3.0984e-04 - val_loss: 3.0433e-04\n",
            "Epoch 67/100\n",
            "23/23 [==============================] - 11s 474ms/step - loss: 2.5810e-04 - val_loss: 3.0120e-04\n",
            "Epoch 68/100\n",
            "23/23 [==============================] - 11s 477ms/step - loss: 2.7279e-04 - val_loss: 4.0091e-04\n",
            "Epoch 69/100\n",
            "23/23 [==============================] - 11s 478ms/step - loss: 3.9744e-04 - val_loss: 4.6347e-04\n",
            "Epoch 70/100\n",
            "23/23 [==============================] - 11s 479ms/step - loss: 2.7587e-04 - val_loss: 3.0241e-04\n",
            "Epoch 71/100\n",
            "23/23 [==============================] - 11s 478ms/step - loss: 2.8151e-04 - val_loss: 4.1927e-04\n",
            "Epoch 72/100\n",
            "23/23 [==============================] - 10s 419ms/step - loss: 3.6457e-04 - val_loss: 2.8258e-04\n",
            "Epoch 73/100\n",
            "23/23 [==============================] - 11s 478ms/step - loss: 2.6780e-04 - val_loss: 2.2739e-04\n",
            "Epoch 74/100\n",
            "23/23 [==============================] - 11s 480ms/step - loss: 2.3249e-04 - val_loss: 3.6082e-04\n",
            "Epoch 75/100\n",
            "23/23 [==============================] - 11s 478ms/step - loss: 2.3209e-04 - val_loss: 2.7090e-04\n",
            "Epoch 76/100\n",
            "23/23 [==============================] - 11s 484ms/step - loss: 2.1853e-04 - val_loss: 2.8581e-04\n",
            "Epoch 77/100\n",
            "23/23 [==============================] - 11s 480ms/step - loss: 2.6218e-04 - val_loss: 3.0552e-04\n",
            "Epoch 78/100\n",
            "23/23 [==============================] - 10s 423ms/step - loss: 2.2033e-04 - val_loss: 2.2113e-04\n",
            "Epoch 79/100\n",
            "23/23 [==============================] - 11s 471ms/step - loss: 2.1469e-04 - val_loss: 2.1493e-04\n",
            "Epoch 80/100\n",
            "23/23 [==============================] - 11s 479ms/step - loss: 2.3047e-04 - val_loss: 1.7192e-04\n",
            "Epoch 81/100\n",
            "23/23 [==============================] - 11s 481ms/step - loss: 2.0744e-04 - val_loss: 2.3126e-04\n",
            "Epoch 82/100\n",
            "23/23 [==============================] - 11s 481ms/step - loss: 2.0995e-04 - val_loss: 1.9376e-04\n",
            "Epoch 83/100\n",
            "23/23 [==============================] - 11s 479ms/step - loss: 2.3731e-04 - val_loss: 3.3683e-04\n",
            "Epoch 84/100\n",
            "23/23 [==============================] - 10s 420ms/step - loss: 2.8990e-04 - val_loss: 1.7481e-04\n",
            "Epoch 85/100\n",
            "23/23 [==============================] - 11s 466ms/step - loss: 2.2150e-04 - val_loss: 1.7080e-04\n",
            "Epoch 86/100\n",
            "23/23 [==============================] - 11s 478ms/step - loss: 1.9752e-04 - val_loss: 1.9484e-04\n",
            "Epoch 87/100\n",
            "23/23 [==============================] - 11s 479ms/step - loss: 2.0039e-04 - val_loss: 2.1800e-04\n",
            "Epoch 88/100\n",
            "23/23 [==============================] - 11s 481ms/step - loss: 2.0006e-04 - val_loss: 2.1259e-04\n",
            "Epoch 89/100\n",
            "23/23 [==============================] - 11s 480ms/step - loss: 1.8157e-04 - val_loss: 2.1494e-04\n",
            "Epoch 90/100\n",
            "23/23 [==============================] - 12s 530ms/step - loss: 1.8023e-04 - val_loss: 2.0104e-04\n",
            "Epoch 91/100\n",
            "23/23 [==============================] - 10s 420ms/step - loss: 2.1529e-04 - val_loss: 2.2735e-04\n",
            "Epoch 92/100\n",
            "23/23 [==============================] - 11s 478ms/step - loss: 1.9706e-04 - val_loss: 1.8690e-04\n",
            "Epoch 93/100\n",
            "23/23 [==============================] - 11s 479ms/step - loss: 1.9595e-04 - val_loss: 2.6046e-04\n",
            "Epoch 94/100\n",
            "23/23 [==============================] - 11s 480ms/step - loss: 1.7531e-04 - val_loss: 1.8177e-04\n",
            "Epoch 95/100\n",
            "23/23 [==============================] - 11s 479ms/step - loss: 1.9879e-04 - val_loss: 2.4487e-04\n",
            "Epoch 96/100\n",
            "23/23 [==============================] - 11s 464ms/step - loss: 1.9670e-04 - val_loss: 2.1775e-04\n",
            "Epoch 97/100\n",
            "23/23 [==============================] - 10s 422ms/step - loss: 1.8807e-04 - val_loss: 1.7158e-04\n",
            "Epoch 98/100\n",
            "23/23 [==============================] - 11s 481ms/step - loss: 1.7096e-04 - val_loss: 1.7681e-04\n",
            "Epoch 99/100\n",
            "23/23 [==============================] - 11s 481ms/step - loss: 1.6622e-04 - val_loss: 1.5216e-04\n",
            "Epoch 100/100\n",
            "23/23 [==============================] - 11s 479ms/step - loss: 1.8686e-04 - val_loss: 1.9094e-04\n"
          ]
        },
        {
          "output_type": "execute_result",
          "data": {
            "text/plain": [
              "<tensorflow.python.keras.callbacks.History at 0x7f2b30a4bee0>"
            ]
          },
          "metadata": {},
          "execution_count": 26
        }
      ]
    },
    {
      "cell_type": "code",
      "source": [
        "#predictions\n",
        "#Lets predict and check performance metrics\n",
        "train_predict = model.predict(x_train)\n",
        "test_predict = model.predict(x_test)"
      ],
      "metadata": {
        "id": "xhfpGb4Mcf_V"
      },
      "execution_count": null,
      "outputs": []
    },
    {
      "cell_type": "code",
      "source": [
        "#Transform back to original form\n",
        "train_predict = scaler.inverse_transform(train_predict)\n",
        "test_predict = scaler.inverse_transform(test_predict)"
      ],
      "metadata": {
        "id": "aqsJ-fi9gxTS"
      },
      "execution_count": null,
      "outputs": []
    },
    {
      "cell_type": "code",
      "source": [
        "#Calculate RMSE performance metrics\n",
        "import math\n",
        "from sklearn.metrics import mean_squared_error\n",
        "math.sqrt(mean_squared_error(y_train, train_predict))"
      ],
      "metadata": {
        "colab": {
          "base_uri": "https://localhost:8080/"
        },
        "id": "V0meWOINg1By",
        "outputId": "3e2444b5-ce93-4e46-bf4f-c73fd2851ba4"
      },
      "execution_count": null,
      "outputs": [
        {
          "output_type": "execute_result",
          "data": {
            "text/plain": [
              "164.26808819968716"
            ]
          },
          "metadata": {},
          "execution_count": 29
        }
      ]
    },
    {
      "cell_type": "code",
      "source": [
        "#Test Data RMSE\n",
        "math.sqrt(mean_squared_error(y_test, test_predict))"
      ],
      "metadata": {
        "colab": {
          "base_uri": "https://localhost:8080/"
        },
        "id": "LEXHkYHXg3PM",
        "outputId": "a6416108-50d1-4098-ad57-13b3c51bd4a1"
      },
      "execution_count": null,
      "outputs": [
        {
          "output_type": "execute_result",
          "data": {
            "text/plain": [
              "108.07727278514467"
            ]
          },
          "metadata": {},
          "execution_count": 30
        }
      ]
    },
    {
      "cell_type": "code",
      "source": [
        "#Plotting\n",
        "#Shift train prediction for plotting\n",
        "look_back = 100\n",
        "trainPredictPlot = np.empty_like(df_high)\n",
        "trainPredictPlot[:,:] = np.nan\n",
        "trainPredictPlot[look_back:len(train_predict) + look_back, :] = train_predict\n",
        "\n",
        "#Shift test prediction for plotting\n",
        "testPredictPlot = np.empty_like(df_high)\n",
        "testPredictPlot[:,:] = np.nan\n",
        "testPredictPlot[len(train_predict) + (look_back * 2)+1:len(df_high) - 1, :] = test_predict"
      ],
      "metadata": {
        "id": "VGUq7T4Qg5mk"
      },
      "execution_count": null,
      "outputs": []
    },
    {
      "cell_type": "code",
      "source": [
        "#Plot baseline and predictions\n",
        "plt.plot(scaler.inverse_transform(df_high))\n",
        "plt.plot(trainPredictPlot)\n",
        "plt.plot(testPredictPlot)\n",
        "plt.show()\n",
        "\n",
        "print(\"Green indicates the Predicted Data\")\n",
        "print(\"Blue indicates the Complete Data\")\n",
        "print(\"Orange indicates the Train Data\")"
      ],
      "metadata": {
        "colab": {
          "base_uri": "https://localhost:8080/",
          "height": 317
        },
        "id": "eJH_w44bg8ih",
        "outputId": "5c26e1d3-ffe1-4c9a-8aa9-0987a9d2941b"
      },
      "execution_count": null,
      "outputs": [
        {
          "output_type": "display_data",
          "data": {
            "text/plain": [
              "<Figure size 432x288 with 1 Axes>"
            ],
            "image/png": "[encoded data removed]"
          },
          "metadata": {
            "needs_background": "light"
          }
        },
        {
          "output_type": "stream",
          "name": "stdout",
          "text": [
            "Green indicates the Predicted Data\n",
            "Blue indicates the Complete Data\n",
            "Orange indicates the Train Data\n"
          ]
        }
      ]
    },
    {
      "cell_type": "code",
      "source": [
        "#Predict the next 28 days Stock Price\n",
        "len(test_data), x_test.shape"
      ],
      "metadata": {
        "colab": {
          "base_uri": "https://localhost:8080/"
        },
        "id": "x3Ied4lzg-7_",
        "outputId": "8a1b5b68-2b39-4960-c05a-3b147f751147"
      },
      "execution_count": null,
      "outputs": [
        {
          "output_type": "execute_result",
          "data": {
            "text/plain": [
              "(509, (408, 100, 1))"
            ]
          },
          "metadata": {},
          "execution_count": 33
        }
      ]
    },
    {
      "cell_type": "code",
      "source": [
        "x_input = test_data[409:].reshape(1,-1)\n",
        "x_input.shape"
      ],
      "metadata": {
        "colab": {
          "base_uri": "https://localhost:8080/"
        },
        "id": "NVzcyamChBCA",
        "outputId": "918839c3-1352-4bb2-af9d-2e869c60bdf0"
      },
      "execution_count": null,
      "outputs": [
        {
          "output_type": "execute_result",
          "data": {
            "text/plain": [
              "(1, 100)"
            ]
          },
          "metadata": {},
          "execution_count": 34
        }
      ]
    },
    {
      "cell_type": "code",
      "source": [
        "temp_input = list(x_input)\n",
        "temp_input = temp_input[0].tolist()\n",
        "\n",
        "lst_output=[]\n",
        "n_steps=100\n",
        "nextNumberOfDays = 28\n",
        "i=0\n",
        "\n",
        "while(i<nextNumberOfDays):\n",
        "    \n",
        "    if(len(temp_input)>100):\n",
        "        x_input=np.array(temp_input[1:])\n",
        "        print(\"{} day input {}\".format(i,x_input))\n",
        "        x_input=x_input.reshape(1,-1)\n",
        "        x_input = x_input.reshape((1, n_steps, 1))\n",
        "        yhat = model.predict(x_input, verbose=0)\n",
        "        print(\"{} day output {}\".format(i,yhat))\n",
        "        temp_input.extend(yhat[0].tolist())\n",
        "        temp_input=temp_input[1:]\n",
        "        lst_output.extend(yhat.tolist())\n",
        "        i=i+1\n",
        "    else:\n",
        "        x_input = x_input.reshape((1, n_steps,1))\n",
        "        yhat = model.predict(x_input, verbose=0)\n",
        "        print(yhat[0])\n",
        "        temp_input.extend(yhat[0].tolist())\n",
        "        print(len(temp_input))\n",
        "        lst_output.extend(yhat.tolist())\n",
        "        i=i+1\n",
        "    \n",
        "print(lst_output)"
      ],
      "metadata": {
        "colab": {
          "base_uri": "https://localhost:8080/"
        },
        "id": "n5DyLbAbhC-N",
        "outputId": "227ede0a-686b-4ab3-cf48-654c2d10dfa0"
      },
      "execution_count": null,
      "outputs": [
        {
          "output_type": "stream",
          "name": "stdout",
          "text": [
            "[0.16312101]\n",
            "101\n",
            "1 day input [0.13254727 0.13397032 0.13356373 0.13498679 0.14108559 0.13498679\n",
            " 0.12644847 0.12685505 0.12482212 0.14515145 0.1467778  0.15003049\n",
            " 0.15368977 0.17198618 0.16548079 0.17625534 0.17564546 0.19129904\n",
            " 0.20817239 0.20309006 0.18479366 0.17930474 0.1896727  0.17483228\n",
            " 0.17849156 0.17645863 0.18540354 0.18377719 0.19190892 0.18987599\n",
            " 0.19028258 0.19394186 0.20004066 0.19638138 0.19495832 0.20349665\n",
            " 0.19597479 0.21162838 0.22036999 0.20979874 0.21528766 0.21589754\n",
            " 0.21610083 0.22748526 0.19150234 0.1833706  0.17340923 0.16751372\n",
            " 0.1622281  0.17056312 0.17462899 0.17930474 0.18174426 0.16853019\n",
            " 0.16548079 0.1742224  0.1713763  0.17300264 0.17157959 0.17767839\n",
            " 0.18459036 0.18702988 0.18987599 0.19109575 0.18581012 0.17015654\n",
            " 0.16751372 0.16974995 0.16609067 0.15531612 0.15003049 0.15064037\n",
            " 0.14860744 0.14596463 0.15043708 0.14413499 0.12441553 0.12827811\n",
            " 0.11547062 0.12034966 0.13478349 0.13498679 0.12868469 0.13295385\n",
            " 0.12807481 0.12624517 0.13051433 0.13905265 0.14718439 0.15104696\n",
            " 0.14515145 0.14311852 0.15816223 0.15328319 0.14921732 0.15531612\n",
            " 0.15917869 0.15938199 0.16344786 0.16312101]\n",
            "1 day output [[0.16454527]]\n",
            "2 day input [0.13397032 0.13356373 0.13498679 0.14108559 0.13498679 0.12644847\n",
            " 0.12685505 0.12482212 0.14515145 0.1467778  0.15003049 0.15368977\n",
            " 0.17198618 0.16548079 0.17625534 0.17564546 0.19129904 0.20817239\n",
            " 0.20309006 0.18479366 0.17930474 0.1896727  0.17483228 0.17849156\n",
            " 0.17645863 0.18540354 0.18377719 0.19190892 0.18987599 0.19028258\n",
            " 0.19394186 0.20004066 0.19638138 0.19495832 0.20349665 0.19597479\n",
            " 0.21162838 0.22036999 0.20979874 0.21528766 0.21589754 0.21610083\n",
            " 0.22748526 0.19150234 0.1833706  0.17340923 0.16751372 0.1622281\n",
            " 0.17056312 0.17462899 0.17930474 0.18174426 0.16853019 0.16548079\n",
            " 0.1742224  0.1713763  0.17300264 0.17157959 0.17767839 0.18459036\n",
            " 0.18702988 0.18987599 0.19109575 0.18581012 0.17015654 0.16751372\n",
            " 0.16974995 0.16609067 0.15531612 0.15003049 0.15064037 0.14860744\n",
            " 0.14596463 0.15043708 0.14413499 0.12441553 0.12827811 0.11547062\n",
            " 0.12034966 0.13478349 0.13498679 0.12868469 0.13295385 0.12807481\n",
            " 0.12624517 0.13051433 0.13905265 0.14718439 0.15104696 0.14515145\n",
            " 0.14311852 0.15816223 0.15328319 0.14921732 0.15531612 0.15917869\n",
            " 0.15938199 0.16344786 0.16312101 0.16454527]\n",
            "2 day output [[0.16532555]]\n",
            "3 day input [0.13356373 0.13498679 0.14108559 0.13498679 0.12644847 0.12685505\n",
            " 0.12482212 0.14515145 0.1467778  0.15003049 0.15368977 0.17198618\n",
            " 0.16548079 0.17625534 0.17564546 0.19129904 0.20817239 0.20309006\n",
            " 0.18479366 0.17930474 0.1896727  0.17483228 0.17849156 0.17645863\n",
            " 0.18540354 0.18377719 0.19190892 0.18987599 0.19028258 0.19394186\n",
            " 0.20004066 0.19638138 0.19495832 0.20349665 0.19597479 0.21162838\n",
            " 0.22036999 0.20979874 0.21528766 0.21589754 0.21610083 0.22748526\n",
            " 0.19150234 0.1833706  0.17340923 0.16751372 0.1622281  0.17056312\n",
            " 0.17462899 0.17930474 0.18174426 0.16853019 0.16548079 0.1742224\n",
            " 0.1713763  0.17300264 0.17157959 0.17767839 0.18459036 0.18702988\n",
            " 0.18987599 0.19109575 0.18581012 0.17015654 0.16751372 0.16974995\n",
            " 0.16609067 0.15531612 0.15003049 0.15064037 0.14860744 0.14596463\n",
            " 0.15043708 0.14413499 0.12441553 0.12827811 0.11547062 0.12034966\n",
            " 0.13478349 0.13498679 0.12868469 0.13295385 0.12807481 0.12624517\n",
            " 0.13051433 0.13905265 0.14718439 0.15104696 0.14515145 0.14311852\n",
            " 0.15816223 0.15328319 0.14921732 0.15531612 0.15917869 0.15938199\n",
            " 0.16344786 0.16312101 0.16454527 0.16532555]\n",
            "3 day output [[0.16586515]]\n",
            "4 day input [0.13498679 0.14108559 0.13498679 0.12644847 0.12685505 0.12482212\n",
            " 0.14515145 0.1467778  0.15003049 0.15368977 0.17198618 0.16548079\n",
            " 0.17625534 0.17564546 0.19129904 0.20817239 0.20309006 0.18479366\n",
            " 0.17930474 0.1896727  0.17483228 0.17849156 0.17645863 0.18540354\n",
            " 0.18377719 0.19190892 0.18987599 0.19028258 0.19394186 0.20004066\n",
            " 0.19638138 0.19495832 0.20349665 0.19597479 0.21162838 0.22036999\n",
            " 0.20979874 0.21528766 0.21589754 0.21610083 0.22748526 0.19150234\n",
            " 0.1833706  0.17340923 0.16751372 0.1622281  0.17056312 0.17462899\n",
            " 0.17930474 0.18174426 0.16853019 0.16548079 0.1742224  0.1713763\n",
            " 0.17300264 0.17157959 0.17767839 0.18459036 0.18702988 0.18987599\n",
            " 0.19109575 0.18581012 0.17015654 0.16751372 0.16974995 0.16609067\n",
            " 0.15531612 0.15003049 0.15064037 0.14860744 0.14596463 0.15043708\n",
            " 0.14413499 0.12441553 0.12827811 0.11547062 0.12034966 0.13478349\n",
            " 0.13498679 0.12868469 0.13295385 0.12807481 0.12624517 0.13051433\n",
            " 0.13905265 0.14718439 0.15104696 0.14515145 0.14311852 0.15816223\n",
            " 0.15328319 0.14921732 0.15531612 0.15917869 0.15938199 0.16344786\n",
            " 0.16312101 0.16454527 0.16532555 0.16586515]\n",
            "4 day output [[0.1662966]]\n",
            "5 day input [0.14108559 0.13498679 0.12644847 0.12685505 0.12482212 0.14515145\n",
            " 0.1467778  0.15003049 0.15368977 0.17198618 0.16548079 0.17625534\n",
            " 0.17564546 0.19129904 0.20817239 0.20309006 0.18479366 0.17930474\n",
            " 0.1896727  0.17483228 0.17849156 0.17645863 0.18540354 0.18377719\n",
            " 0.19190892 0.18987599 0.19028258 0.19394186 0.20004066 0.19638138\n",
            " 0.19495832 0.20349665 0.19597479 0.21162838 0.22036999 0.20979874\n",
            " 0.21528766 0.21589754 0.21610083 0.22748526 0.19150234 0.1833706\n",
            " 0.17340923 0.16751372 0.1622281  0.17056312 0.17462899 0.17930474\n",
            " 0.18174426 0.16853019 0.16548079 0.1742224  0.1713763  0.17300264\n",
            " 0.17157959 0.17767839 0.18459036 0.18702988 0.18987599 0.19109575\n",
            " 0.18581012 0.17015654 0.16751372 0.16974995 0.16609067 0.15531612\n",
            " 0.15003049 0.15064037 0.14860744 0.14596463 0.15043708 0.14413499\n",
            " 0.12441553 0.12827811 0.11547062 0.12034966 0.13478349 0.13498679\n",
            " 0.12868469 0.13295385 0.12807481 0.12624517 0.13051433 0.13905265\n",
            " 0.14718439 0.15104696 0.14515145 0.14311852 0.15816223 0.15328319\n",
            " 0.14921732 0.15531612 0.15917869 0.15938199 0.16344786 0.16312101\n",
            " 0.16454527 0.16532555 0.16586515 0.1662966 ]\n",
            "5 day output [[0.16667396]]\n",
            "6 day input [0.13498679 0.12644847 0.12685505 0.12482212 0.14515145 0.1467778\n",
            " 0.15003049 0.15368977 0.17198618 0.16548079 0.17625534 0.17564546\n",
            " 0.19129904 0.20817239 0.20309006 0.18479366 0.17930474 0.1896727\n",
            " 0.17483228 0.17849156 0.17645863 0.18540354 0.18377719 0.19190892\n",
            " 0.18987599 0.19028258 0.19394186 0.20004066 0.19638138 0.19495832\n",
            " 0.20349665 0.19597479 0.21162838 0.22036999 0.20979874 0.21528766\n",
            " 0.21589754 0.21610083 0.22748526 0.19150234 0.1833706  0.17340923\n",
            " 0.16751372 0.1622281  0.17056312 0.17462899 0.17930474 0.18174426\n",
            " 0.16853019 0.16548079 0.1742224  0.1713763  0.17300264 0.17157959\n",
            " 0.17767839 0.18459036 0.18702988 0.18987599 0.19109575 0.18581012\n",
            " 0.17015654 0.16751372 0.16974995 0.16609067 0.15531612 0.15003049\n",
            " 0.15064037 0.14860744 0.14596463 0.15043708 0.14413499 0.12441553\n",
            " 0.12827811 0.11547062 0.12034966 0.13478349 0.13498679 0.12868469\n",
            " 0.13295385 0.12807481 0.12624517 0.13051433 0.13905265 0.14718439\n",
            " 0.15104696 0.14515145 0.14311852 0.15816223 0.15328319 0.14921732\n",
            " 0.15531612 0.15917869 0.15938199 0.16344786 0.16312101 0.16454527\n",
            " 0.16532555 0.16586515 0.1662966  0.16667396]\n",
            "6 day output [[0.16702834]]\n",
            "7 day input [0.12644847 0.12685505 0.12482212 0.14515145 0.1467778  0.15003049\n",
            " 0.15368977 0.17198618 0.16548079 0.17625534 0.17564546 0.19129904\n",
            " 0.20817239 0.20309006 0.18479366 0.17930474 0.1896727  0.17483228\n",
            " 0.17849156 0.17645863 0.18540354 0.18377719 0.19190892 0.18987599\n",
            " 0.19028258 0.19394186 0.20004066 0.19638138 0.19495832 0.20349665\n",
            " 0.19597479 0.21162838 0.22036999 0.20979874 0.21528766 0.21589754\n",
            " 0.21610083 0.22748526 0.19150234 0.1833706  0.17340923 0.16751372\n",
            " 0.1622281  0.17056312 0.17462899 0.17930474 0.18174426 0.16853019\n",
            " 0.16548079 0.1742224  0.1713763  0.17300264 0.17157959 0.17767839\n",
            " 0.18459036 0.18702988 0.18987599 0.19109575 0.18581012 0.17015654\n",
            " 0.16751372 0.16974995 0.16609067 0.15531612 0.15003049 0.15064037\n",
            " 0.14860744 0.14596463 0.15043708 0.14413499 0.12441553 0.12827811\n",
            " 0.11547062 0.12034966 0.13478349 0.13498679 0.12868469 0.13295385\n",
            " 0.12807481 0.12624517 0.13051433 0.13905265 0.14718439 0.15104696\n",
            " 0.14515145 0.14311852 0.15816223 0.15328319 0.14921732 0.15531612\n",
            " 0.15917869 0.15938199 0.16344786 0.16312101 0.16454527 0.16532555\n",
            " 0.16586515 0.1662966  0.16667396 0.16702834]\n",
            "7 day output [[0.1673791]]\n",
            "8 day input [0.12685505 0.12482212 0.14515145 0.1467778  0.15003049 0.15368977\n",
            " 0.17198618 0.16548079 0.17625534 0.17564546 0.19129904 0.20817239\n",
            " 0.20309006 0.18479366 0.17930474 0.1896727  0.17483228 0.17849156\n",
            " 0.17645863 0.18540354 0.18377719 0.19190892 0.18987599 0.19028258\n",
            " 0.19394186 0.20004066 0.19638138 0.19495832 0.20349665 0.19597479\n",
            " 0.21162838 0.22036999 0.20979874 0.21528766 0.21589754 0.21610083\n",
            " 0.22748526 0.19150234 0.1833706  0.17340923 0.16751372 0.1622281\n",
            " 0.17056312 0.17462899 0.17930474 0.18174426 0.16853019 0.16548079\n",
            " 0.1742224  0.1713763  0.17300264 0.17157959 0.17767839 0.18459036\n",
            " 0.18702988 0.18987599 0.19109575 0.18581012 0.17015654 0.16751372\n",
            " 0.16974995 0.16609067 0.15531612 0.15003049 0.15064037 0.14860744\n",
            " 0.14596463 0.15043708 0.14413499 0.12441553 0.12827811 0.11547062\n",
            " 0.12034966 0.13478349 0.13498679 0.12868469 0.13295385 0.12807481\n",
            " 0.12624517 0.13051433 0.13905265 0.14718439 0.15104696 0.14515145\n",
            " 0.14311852 0.15816223 0.15328319 0.14921732 0.15531612 0.15917869\n",
            " 0.15938199 0.16344786 0.16312101 0.16454527 0.16532555 0.16586515\n",
            " 0.1662966  0.16667396 0.16702834 0.1673791 ]\n",
            "8 day output [[0.16773625]]\n",
            "9 day input [0.12482212 0.14515145 0.1467778  0.15003049 0.15368977 0.17198618\n",
            " 0.16548079 0.17625534 0.17564546 0.19129904 0.20817239 0.20309006\n",
            " 0.18479366 0.17930474 0.1896727  0.17483228 0.17849156 0.17645863\n",
            " 0.18540354 0.18377719 0.19190892 0.18987599 0.19028258 0.19394186\n",
            " 0.20004066 0.19638138 0.19495832 0.20349665 0.19597479 0.21162838\n",
            " 0.22036999 0.20979874 0.21528766 0.21589754 0.21610083 0.22748526\n",
            " 0.19150234 0.1833706  0.17340923 0.16751372 0.1622281  0.17056312\n",
            " 0.17462899 0.17930474 0.18174426 0.16853019 0.16548079 0.1742224\n",
            " 0.1713763  0.17300264 0.17157959 0.17767839 0.18459036 0.18702988\n",
            " 0.18987599 0.19109575 0.18581012 0.17015654 0.16751372 0.16974995\n",
            " 0.16609067 0.15531612 0.15003049 0.15064037 0.14860744 0.14596463\n",
            " 0.15043708 0.14413499 0.12441553 0.12827811 0.11547062 0.12034966\n",
            " 0.13478349 0.13498679 0.12868469 0.13295385 0.12807481 0.12624517\n",
            " 0.13051433 0.13905265 0.14718439 0.15104696 0.14515145 0.14311852\n",
            " 0.15816223 0.15328319 0.14921732 0.15531612 0.15917869 0.15938199\n",
            " 0.16344786 0.16312101 0.16454527 0.16532555 0.16586515 0.1662966\n",
            " 0.16667396 0.16702834 0.1673791  0.16773625]\n",
            "9 day output [[0.16810295]]\n",
            "10 day input [0.14515145 0.1467778  0.15003049 0.15368977 0.17198618 0.16548079\n",
            " 0.17625534 0.17564546 0.19129904 0.20817239 0.20309006 0.18479366\n",
            " 0.17930474 0.1896727  0.17483228 0.17849156 0.17645863 0.18540354\n",
            " 0.18377719 0.19190892 0.18987599 0.19028258 0.19394186 0.20004066\n",
            " 0.19638138 0.19495832 0.20349665 0.19597479 0.21162838 0.22036999\n",
            " 0.20979874 0.21528766 0.21589754 0.21610083 0.22748526 0.19150234\n",
            " 0.1833706  0.17340923 0.16751372 0.1622281  0.17056312 0.17462899\n",
            " 0.17930474 0.18174426 0.16853019 0.16548079 0.1742224  0.1713763\n",
            " 0.17300264 0.17157959 0.17767839 0.18459036 0.18702988 0.18987599\n",
            " 0.19109575 0.18581012 0.17015654 0.16751372 0.16974995 0.16609067\n",
            " 0.15531612 0.15003049 0.15064037 0.14860744 0.14596463 0.15043708\n",
            " 0.14413499 0.12441553 0.12827811 0.11547062 0.12034966 0.13478349\n",
            " 0.13498679 0.12868469 0.13295385 0.12807481 0.12624517 0.13051433\n",
            " 0.13905265 0.14718439 0.15104696 0.14515145 0.14311852 0.15816223\n",
            " 0.15328319 0.14921732 0.15531612 0.15917869 0.15938199 0.16344786\n",
            " 0.16312101 0.16454527 0.16532555 0.16586515 0.1662966  0.16667396\n",
            " 0.16702834 0.1673791  0.16773625 0.16810295]\n",
            "10 day output [[0.16847752]]\n",
            "11 day input [0.1467778  0.15003049 0.15368977 0.17198618 0.16548079 0.17625534\n",
            " 0.17564546 0.19129904 0.20817239 0.20309006 0.18479366 0.17930474\n",
            " 0.1896727  0.17483228 0.17849156 0.17645863 0.18540354 0.18377719\n",
            " 0.19190892 0.18987599 0.19028258 0.19394186 0.20004066 0.19638138\n",
            " 0.19495832 0.20349665 0.19597479 0.21162838 0.22036999 0.20979874\n",
            " 0.21528766 0.21589754 0.21610083 0.22748526 0.19150234 0.1833706\n",
            " 0.17340923 0.16751372 0.1622281  0.17056312 0.17462899 0.17930474\n",
            " 0.18174426 0.16853019 0.16548079 0.1742224  0.1713763  0.17300264\n",
            " 0.17157959 0.17767839 0.18459036 0.18702988 0.18987599 0.19109575\n",
            " 0.18581012 0.17015654 0.16751372 0.16974995 0.16609067 0.15531612\n",
            " 0.15003049 0.15064037 0.14860744 0.14596463 0.15043708 0.14413499\n",
            " 0.12441553 0.12827811 0.11547062 0.12034966 0.13478349 0.13498679\n",
            " 0.12868469 0.13295385 0.12807481 0.12624517 0.13051433 0.13905265\n",
            " 0.14718439 0.15104696 0.14515145 0.14311852 0.15816223 0.15328319\n",
            " 0.14921732 0.15531612 0.15917869 0.15938199 0.16344786 0.16312101\n",
            " 0.16454527 0.16532555 0.16586515 0.1662966  0.16667396 0.16702834\n",
            " 0.1673791  0.16773625 0.16810295 0.16847752]\n",
            "11 day output [[0.1688557]]\n",
            "12 day input [0.15003049 0.15368977 0.17198618 0.16548079 0.17625534 0.17564546\n",
            " 0.19129904 0.20817239 0.20309006 0.18479366 0.17930474 0.1896727\n",
            " 0.17483228 0.17849156 0.17645863 0.18540354 0.18377719 0.19190892\n",
            " 0.18987599 0.19028258 0.19394186 0.20004066 0.19638138 0.19495832\n",
            " 0.20349665 0.19597479 0.21162838 0.22036999 0.20979874 0.21528766\n",
            " 0.21589754 0.21610083 0.22748526 0.19150234 0.1833706  0.17340923\n",
            " 0.16751372 0.1622281  0.17056312 0.17462899 0.17930474 0.18174426\n",
            " 0.16853019 0.16548079 0.1742224  0.1713763  0.17300264 0.17157959\n",
            " 0.17767839 0.18459036 0.18702988 0.18987599 0.19109575 0.18581012\n",
            " 0.17015654 0.16751372 0.16974995 0.16609067 0.15531612 0.15003049\n",
            " 0.15064037 0.14860744 0.14596463 0.15043708 0.14413499 0.12441553\n",
            " 0.12827811 0.11547062 0.12034966 0.13478349 0.13498679 0.12868469\n",
            " 0.13295385 0.12807481 0.12624517 0.13051433 0.13905265 0.14718439\n",
            " 0.15104696 0.14515145 0.14311852 0.15816223 0.15328319 0.14921732\n",
            " 0.15531612 0.15917869 0.15938199 0.16344786 0.16312101 0.16454527\n",
            " 0.16532555 0.16586515 0.1662966  0.16667396 0.16702834 0.1673791\n",
            " 0.16773625 0.16810295 0.16847752 0.1688557 ]\n",
            "12 day output [[0.1692323]]\n",
            "13 day input [0.15368977 0.17198618 0.16548079 0.17625534 0.17564546 0.19129904\n",
            " 0.20817239 0.20309006 0.18479366 0.17930474 0.1896727  0.17483228\n",
            " 0.17849156 0.17645863 0.18540354 0.18377719 0.19190892 0.18987599\n",
            " 0.19028258 0.19394186 0.20004066 0.19638138 0.19495832 0.20349665\n",
            " 0.19597479 0.21162838 0.22036999 0.20979874 0.21528766 0.21589754\n",
            " 0.21610083 0.22748526 0.19150234 0.1833706  0.17340923 0.16751372\n",
            " 0.1622281  0.17056312 0.17462899 0.17930474 0.18174426 0.16853019\n",
            " 0.16548079 0.1742224  0.1713763  0.17300264 0.17157959 0.17767839\n",
            " 0.18459036 0.18702988 0.18987599 0.19109575 0.18581012 0.17015654\n",
            " 0.16751372 0.16974995 0.16609067 0.15531612 0.15003049 0.15064037\n",
            " 0.14860744 0.14596463 0.15043708 0.14413499 0.12441553 0.12827811\n",
            " 0.11547062 0.12034966 0.13478349 0.13498679 0.12868469 0.13295385\n",
            " 0.12807481 0.12624517 0.13051433 0.13905265 0.14718439 0.15104696\n",
            " 0.14515145 0.14311852 0.15816223 0.15328319 0.14921732 0.15531612\n",
            " 0.15917869 0.15938199 0.16344786 0.16312101 0.16454527 0.16532555\n",
            " 0.16586515 0.1662966  0.16667396 0.16702834 0.1673791  0.16773625\n",
            " 0.16810295 0.16847752 0.1688557  0.16923229]\n",
            "13 day output [[0.1696021]]\n",
            "14 day input [0.17198618 0.16548079 0.17625534 0.17564546 0.19129904 0.20817239\n",
            " 0.20309006 0.18479366 0.17930474 0.1896727  0.17483228 0.17849156\n",
            " 0.17645863 0.18540354 0.18377719 0.19190892 0.18987599 0.19028258\n",
            " 0.19394186 0.20004066 0.19638138 0.19495832 0.20349665 0.19597479\n",
            " 0.21162838 0.22036999 0.20979874 0.21528766 0.21589754 0.21610083\n",
            " 0.22748526 0.19150234 0.1833706  0.17340923 0.16751372 0.1622281\n",
            " 0.17056312 0.17462899 0.17930474 0.18174426 0.16853019 0.16548079\n",
            " 0.1742224  0.1713763  0.17300264 0.17157959 0.17767839 0.18459036\n",
            " 0.18702988 0.18987599 0.19109575 0.18581012 0.17015654 0.16751372\n",
            " 0.16974995 0.16609067 0.15531612 0.15003049 0.15064037 0.14860744\n",
            " 0.14596463 0.15043708 0.14413499 0.12441553 0.12827811 0.11547062\n",
            " 0.12034966 0.13478349 0.13498679 0.12868469 0.13295385 0.12807481\n",
            " 0.12624517 0.13051433 0.13905265 0.14718439 0.15104696 0.14515145\n",
            " 0.14311852 0.15816223 0.15328319 0.14921732 0.15531612 0.15917869\n",
            " 0.15938199 0.16344786 0.16312101 0.16454527 0.16532555 0.16586515\n",
            " 0.1662966  0.16667396 0.16702834 0.1673791  0.16773625 0.16810295\n",
            " 0.16847752 0.1688557  0.16923229 0.1696021 ]\n",
            "14 day output [[0.16996095]]\n",
            "15 day input [0.16548079 0.17625534 0.17564546 0.19129904 0.20817239 0.20309006\n",
            " 0.18479366 0.17930474 0.1896727  0.17483228 0.17849156 0.17645863\n",
            " 0.18540354 0.18377719 0.19190892 0.18987599 0.19028258 0.19394186\n",
            " 0.20004066 0.19638138 0.19495832 0.20349665 0.19597479 0.21162838\n",
            " 0.22036999 0.20979874 0.21528766 0.21589754 0.21610083 0.22748526\n",
            " 0.19150234 0.1833706  0.17340923 0.16751372 0.1622281  0.17056312\n",
            " 0.17462899 0.17930474 0.18174426 0.16853019 0.16548079 0.1742224\n",
            " 0.1713763  0.17300264 0.17157959 0.17767839 0.18459036 0.18702988\n",
            " 0.18987599 0.19109575 0.18581012 0.17015654 0.16751372 0.16974995\n",
            " 0.16609067 0.15531612 0.15003049 0.15064037 0.14860744 0.14596463\n",
            " 0.15043708 0.14413499 0.12441553 0.12827811 0.11547062 0.12034966\n",
            " 0.13478349 0.13498679 0.12868469 0.13295385 0.12807481 0.12624517\n",
            " 0.13051433 0.13905265 0.14718439 0.15104696 0.14515145 0.14311852\n",
            " 0.15816223 0.15328319 0.14921732 0.15531612 0.15917869 0.15938199\n",
            " 0.16344786 0.16312101 0.16454527 0.16532555 0.16586515 0.1662966\n",
            " 0.16667396 0.16702834 0.1673791  0.16773625 0.16810295 0.16847752\n",
            " 0.1688557  0.16923229 0.1696021  0.16996095]\n",
            "15 day output [[0.17030577]]\n",
            "16 day input [0.17625534 0.17564546 0.19129904 0.20817239 0.20309006 0.18479366\n",
            " 0.17930474 0.1896727  0.17483228 0.17849156 0.17645863 0.18540354\n",
            " 0.18377719 0.19190892 0.18987599 0.19028258 0.19394186 0.20004066\n",
            " 0.19638138 0.19495832 0.20349665 0.19597479 0.21162838 0.22036999\n",
            " 0.20979874 0.21528766 0.21589754 0.21610083 0.22748526 0.19150234\n",
            " 0.1833706  0.17340923 0.16751372 0.1622281  0.17056312 0.17462899\n",
            " 0.17930474 0.18174426 0.16853019 0.16548079 0.1742224  0.1713763\n",
            " 0.17300264 0.17157959 0.17767839 0.18459036 0.18702988 0.18987599\n",
            " 0.19109575 0.18581012 0.17015654 0.16751372 0.16974995 0.16609067\n",
            " 0.15531612 0.15003049 0.15064037 0.14860744 0.14596463 0.15043708\n",
            " 0.14413499 0.12441553 0.12827811 0.11547062 0.12034966 0.13478349\n",
            " 0.13498679 0.12868469 0.13295385 0.12807481 0.12624517 0.13051433\n",
            " 0.13905265 0.14718439 0.15104696 0.14515145 0.14311852 0.15816223\n",
            " 0.15328319 0.14921732 0.15531612 0.15917869 0.15938199 0.16344786\n",
            " 0.16312101 0.16454527 0.16532555 0.16586515 0.1662966  0.16667396\n",
            " 0.16702834 0.1673791  0.16773625 0.16810295 0.16847752 0.1688557\n",
            " 0.16923229 0.1696021  0.16996095 0.17030577]\n",
            "16 day output [[0.17063488]]\n",
            "17 day input [0.17564546 0.19129904 0.20817239 0.20309006 0.18479366 0.17930474\n",
            " 0.1896727  0.17483228 0.17849156 0.17645863 0.18540354 0.18377719\n",
            " 0.19190892 0.18987599 0.19028258 0.19394186 0.20004066 0.19638138\n",
            " 0.19495832 0.20349665 0.19597479 0.21162838 0.22036999 0.20979874\n",
            " 0.21528766 0.21589754 0.21610083 0.22748526 0.19150234 0.1833706\n",
            " 0.17340923 0.16751372 0.1622281  0.17056312 0.17462899 0.17930474\n",
            " 0.18174426 0.16853019 0.16548079 0.1742224  0.1713763  0.17300264\n",
            " 0.17157959 0.17767839 0.18459036 0.18702988 0.18987599 0.19109575\n",
            " 0.18581012 0.17015654 0.16751372 0.16974995 0.16609067 0.15531612\n",
            " 0.15003049 0.15064037 0.14860744 0.14596463 0.15043708 0.14413499\n",
            " 0.12441553 0.12827811 0.11547062 0.12034966 0.13478349 0.13498679\n",
            " 0.12868469 0.13295385 0.12807481 0.12624517 0.13051433 0.13905265\n",
            " 0.14718439 0.15104696 0.14515145 0.14311852 0.15816223 0.15328319\n",
            " 0.14921732 0.15531612 0.15917869 0.15938199 0.16344786 0.16312101\n",
            " 0.16454527 0.16532555 0.16586515 0.1662966  0.16667396 0.16702834\n",
            " 0.1673791  0.16773625 0.16810295 0.16847752 0.1688557  0.16923229\n",
            " 0.1696021  0.16996095 0.17030577 0.17063488]\n",
            "17 day output [[0.17094761]]\n",
            "18 day input [0.19129904 0.20817239 0.20309006 0.18479366 0.17930474 0.1896727\n",
            " 0.17483228 0.17849156 0.17645863 0.18540354 0.18377719 0.19190892\n",
            " 0.18987599 0.19028258 0.19394186 0.20004066 0.19638138 0.19495832\n",
            " 0.20349665 0.19597479 0.21162838 0.22036999 0.20979874 0.21528766\n",
            " 0.21589754 0.21610083 0.22748526 0.19150234 0.1833706  0.17340923\n",
            " 0.16751372 0.1622281  0.17056312 0.17462899 0.17930474 0.18174426\n",
            " 0.16853019 0.16548079 0.1742224  0.1713763  0.17300264 0.17157959\n",
            " 0.17767839 0.18459036 0.18702988 0.18987599 0.19109575 0.18581012\n",
            " 0.17015654 0.16751372 0.16974995 0.16609067 0.15531612 0.15003049\n",
            " 0.15064037 0.14860744 0.14596463 0.15043708 0.14413499 0.12441553\n",
            " 0.12827811 0.11547062 0.12034966 0.13478349 0.13498679 0.12868469\n",
            " 0.13295385 0.12807481 0.12624517 0.13051433 0.13905265 0.14718439\n",
            " 0.15104696 0.14515145 0.14311852 0.15816223 0.15328319 0.14921732\n",
            " 0.15531612 0.15917869 0.15938199 0.16344786 0.16312101 0.16454527\n",
            " 0.16532555 0.16586515 0.1662966  0.16667396 0.16702834 0.1673791\n",
            " 0.16773625 0.16810295 0.16847752 0.1688557  0.16923229 0.1696021\n",
            " 0.16996095 0.17030577 0.17063488 0.17094761]\n",
            "18 day output [[0.17124422]]\n",
            "19 day input [0.20817239 0.20309006 0.18479366 0.17930474 0.1896727  0.17483228\n",
            " 0.17849156 0.17645863 0.18540354 0.18377719 0.19190892 0.18987599\n",
            " 0.19028258 0.19394186 0.20004066 0.19638138 0.19495832 0.20349665\n",
            " 0.19597479 0.21162838 0.22036999 0.20979874 0.21528766 0.21589754\n",
            " 0.21610083 0.22748526 0.19150234 0.1833706  0.17340923 0.16751372\n",
            " 0.1622281  0.17056312 0.17462899 0.17930474 0.18174426 0.16853019\n",
            " 0.16548079 0.1742224  0.1713763  0.17300264 0.17157959 0.17767839\n",
            " 0.18459036 0.18702988 0.18987599 0.19109575 0.18581012 0.17015654\n",
            " 0.16751372 0.16974995 0.16609067 0.15531612 0.15003049 0.15064037\n",
            " 0.14860744 0.14596463 0.15043708 0.14413499 0.12441553 0.12827811\n",
            " 0.11547062 0.12034966 0.13478349 0.13498679 0.12868469 0.13295385\n",
            " 0.12807481 0.12624517 0.13051433 0.13905265 0.14718439 0.15104696\n",
            " 0.14515145 0.14311852 0.15816223 0.15328319 0.14921732 0.15531612\n",
            " 0.15917869 0.15938199 0.16344786 0.16312101 0.16454527 0.16532555\n",
            " 0.16586515 0.1662966  0.16667396 0.16702834 0.1673791  0.16773625\n",
            " 0.16810295 0.16847752 0.1688557  0.16923229 0.1696021  0.16996095\n",
            " 0.17030577 0.17063488 0.17094761 0.17124422]\n",
            "19 day output [[0.17152561]]\n",
            "20 day input [0.20309006 0.18479366 0.17930474 0.1896727  0.17483228 0.17849156\n",
            " 0.17645863 0.18540354 0.18377719 0.19190892 0.18987599 0.19028258\n",
            " 0.19394186 0.20004066 0.19638138 0.19495832 0.20349665 0.19597479\n",
            " 0.21162838 0.22036999 0.20979874 0.21528766 0.21589754 0.21610083\n",
            " 0.22748526 0.19150234 0.1833706  0.17340923 0.16751372 0.1622281\n",
            " 0.17056312 0.17462899 0.17930474 0.18174426 0.16853019 0.16548079\n",
            " 0.1742224  0.1713763  0.17300264 0.17157959 0.17767839 0.18459036\n",
            " 0.18702988 0.18987599 0.19109575 0.18581012 0.17015654 0.16751372\n",
            " 0.16974995 0.16609067 0.15531612 0.15003049 0.15064037 0.14860744\n",
            " 0.14596463 0.15043708 0.14413499 0.12441553 0.12827811 0.11547062\n",
            " 0.12034966 0.13478349 0.13498679 0.12868469 0.13295385 0.12807481\n",
            " 0.12624517 0.13051433 0.13905265 0.14718439 0.15104696 0.14515145\n",
            " 0.14311852 0.15816223 0.15328319 0.14921732 0.15531612 0.15917869\n",
            " 0.15938199 0.16344786 0.16312101 0.16454527 0.16532555 0.16586515\n",
            " 0.1662966  0.16667396 0.16702834 0.1673791  0.16773625 0.16810295\n",
            " 0.16847752 0.1688557  0.16923229 0.1696021  0.16996095 0.17030577\n",
            " 0.17063488 0.17094761 0.17124422 0.17152561]\n",
            "20 day output [[0.17179298]]\n",
            "21 day input [0.18479366 0.17930474 0.1896727  0.17483228 0.17849156 0.17645863\n",
            " 0.18540354 0.18377719 0.19190892 0.18987599 0.19028258 0.19394186\n",
            " 0.20004066 0.19638138 0.19495832 0.20349665 0.19597479 0.21162838\n",
            " 0.22036999 0.20979874 0.21528766 0.21589754 0.21610083 0.22748526\n",
            " 0.19150234 0.1833706  0.17340923 0.16751372 0.1622281  0.17056312\n",
            " 0.17462899 0.17930474 0.18174426 0.16853019 0.16548079 0.1742224\n",
            " 0.1713763  0.17300264 0.17157959 0.17767839 0.18459036 0.18702988\n",
            " 0.18987599 0.19109575 0.18581012 0.17015654 0.16751372 0.16974995\n",
            " 0.16609067 0.15531612 0.15003049 0.15064037 0.14860744 0.14596463\n",
            " 0.15043708 0.14413499 0.12441553 0.12827811 0.11547062 0.12034966\n",
            " 0.13478349 0.13498679 0.12868469 0.13295385 0.12807481 0.12624517\n",
            " 0.13051433 0.13905265 0.14718439 0.15104696 0.14515145 0.14311852\n",
            " 0.15816223 0.15328319 0.14921732 0.15531612 0.15917869 0.15938199\n",
            " 0.16344786 0.16312101 0.16454527 0.16532555 0.16586515 0.1662966\n",
            " 0.16667396 0.16702834 0.1673791  0.16773625 0.16810295 0.16847752\n",
            " 0.1688557  0.16923229 0.1696021  0.16996095 0.17030577 0.17063488\n",
            " 0.17094761 0.17124422 0.17152561 0.17179298]\n",
            "21 day output [[0.17204762]]\n",
            "22 day input [0.17930474 0.1896727  0.17483228 0.17849156 0.17645863 0.18540354\n",
            " 0.18377719 0.19190892 0.18987599 0.19028258 0.19394186 0.20004066\n",
            " 0.19638138 0.19495832 0.20349665 0.19597479 0.21162838 0.22036999\n",
            " 0.20979874 0.21528766 0.21589754 0.21610083 0.22748526 0.19150234\n",
            " 0.1833706  0.17340923 0.16751372 0.1622281  0.17056312 0.17462899\n",
            " 0.17930474 0.18174426 0.16853019 0.16548079 0.1742224  0.1713763\n",
            " 0.17300264 0.17157959 0.17767839 0.18459036 0.18702988 0.18987599\n",
            " 0.19109575 0.18581012 0.17015654 0.16751372 0.16974995 0.16609067\n",
            " 0.15531612 0.15003049 0.15064037 0.14860744 0.14596463 0.15043708\n",
            " 0.14413499 0.12441553 0.12827811 0.11547062 0.12034966 0.13478349\n",
            " 0.13498679 0.12868469 0.13295385 0.12807481 0.12624517 0.13051433\n",
            " 0.13905265 0.14718439 0.15104696 0.14515145 0.14311852 0.15816223\n",
            " 0.15328319 0.14921732 0.15531612 0.15917869 0.15938199 0.16344786\n",
            " 0.16312101 0.16454527 0.16532555 0.16586515 0.1662966  0.16667396\n",
            " 0.16702834 0.1673791  0.16773625 0.16810295 0.16847752 0.1688557\n",
            " 0.16923229 0.1696021  0.16996095 0.17030577 0.17063488 0.17094761\n",
            " 0.17124422 0.17152561 0.17179298 0.17204762]\n",
            "22 day output [[0.17229097]]\n",
            "23 day input [0.1896727  0.17483228 0.17849156 0.17645863 0.18540354 0.18377719\n",
            " 0.19190892 0.18987599 0.19028258 0.19394186 0.20004066 0.19638138\n",
            " 0.19495832 0.20349665 0.19597479 0.21162838 0.22036999 0.20979874\n",
            " 0.21528766 0.21589754 0.21610083 0.22748526 0.19150234 0.1833706\n",
            " 0.17340923 0.16751372 0.1622281  0.17056312 0.17462899 0.17930474\n",
            " 0.18174426 0.16853019 0.16548079 0.1742224  0.1713763  0.17300264\n",
            " 0.17157959 0.17767839 0.18459036 0.18702988 0.18987599 0.19109575\n",
            " 0.18581012 0.17015654 0.16751372 0.16974995 0.16609067 0.15531612\n",
            " 0.15003049 0.15064037 0.14860744 0.14596463 0.15043708 0.14413499\n",
            " 0.12441553 0.12827811 0.11547062 0.12034966 0.13478349 0.13498679\n",
            " 0.12868469 0.13295385 0.12807481 0.12624517 0.13051433 0.13905265\n",
            " 0.14718439 0.15104696 0.14515145 0.14311852 0.15816223 0.15328319\n",
            " 0.14921732 0.15531612 0.15917869 0.15938199 0.16344786 0.16312101\n",
            " 0.16454527 0.16532555 0.16586515 0.1662966  0.16667396 0.16702834\n",
            " 0.1673791  0.16773625 0.16810295 0.16847752 0.1688557  0.16923229\n",
            " 0.1696021  0.16996095 0.17030577 0.17063488 0.17094761 0.17124422\n",
            " 0.17152561 0.17179298 0.17204762 0.17229097]\n",
            "23 day output [[0.17252411]]\n",
            "24 day input [0.17483228 0.17849156 0.17645863 0.18540354 0.18377719 0.19190892\n",
            " 0.18987599 0.19028258 0.19394186 0.20004066 0.19638138 0.19495832\n",
            " 0.20349665 0.19597479 0.21162838 0.22036999 0.20979874 0.21528766\n",
            " 0.21589754 0.21610083 0.22748526 0.19150234 0.1833706  0.17340923\n",
            " 0.16751372 0.1622281  0.17056312 0.17462899 0.17930474 0.18174426\n",
            " 0.16853019 0.16548079 0.1742224  0.1713763  0.17300264 0.17157959\n",
            " 0.17767839 0.18459036 0.18702988 0.18987599 0.19109575 0.18581012\n",
            " 0.17015654 0.16751372 0.16974995 0.16609067 0.15531612 0.15003049\n",
            " 0.15064037 0.14860744 0.14596463 0.15043708 0.14413499 0.12441553\n",
            " 0.12827811 0.11547062 0.12034966 0.13478349 0.13498679 0.12868469\n",
            " 0.13295385 0.12807481 0.12624517 0.13051433 0.13905265 0.14718439\n",
            " 0.15104696 0.14515145 0.14311852 0.15816223 0.15328319 0.14921732\n",
            " 0.15531612 0.15917869 0.15938199 0.16344786 0.16312101 0.16454527\n",
            " 0.16532555 0.16586515 0.1662966  0.16667396 0.16702834 0.1673791\n",
            " 0.16773625 0.16810295 0.16847752 0.1688557  0.16923229 0.1696021\n",
            " 0.16996095 0.17030577 0.17063488 0.17094761 0.17124422 0.17152561\n",
            " 0.17179298 0.17204762 0.17229097 0.17252411]\n",
            "24 day output [[0.17274801]]\n",
            "25 day input [0.17849156 0.17645863 0.18540354 0.18377719 0.19190892 0.18987599\n",
            " 0.19028258 0.19394186 0.20004066 0.19638138 0.19495832 0.20349665\n",
            " 0.19597479 0.21162838 0.22036999 0.20979874 0.21528766 0.21589754\n",
            " 0.21610083 0.22748526 0.19150234 0.1833706  0.17340923 0.16751372\n",
            " 0.1622281  0.17056312 0.17462899 0.17930474 0.18174426 0.16853019\n",
            " 0.16548079 0.1742224  0.1713763  0.17300264 0.17157959 0.17767839\n",
            " 0.18459036 0.18702988 0.18987599 0.19109575 0.18581012 0.17015654\n",
            " 0.16751372 0.16974995 0.16609067 0.15531612 0.15003049 0.15064037\n",
            " 0.14860744 0.14596463 0.15043708 0.14413499 0.12441553 0.12827811\n",
            " 0.11547062 0.12034966 0.13478349 0.13498679 0.12868469 0.13295385\n",
            " 0.12807481 0.12624517 0.13051433 0.13905265 0.14718439 0.15104696\n",
            " 0.14515145 0.14311852 0.15816223 0.15328319 0.14921732 0.15531612\n",
            " 0.15917869 0.15938199 0.16344786 0.16312101 0.16454527 0.16532555\n",
            " 0.16586515 0.1662966  0.16667396 0.16702834 0.1673791  0.16773625\n",
            " 0.16810295 0.16847752 0.1688557  0.16923229 0.1696021  0.16996095\n",
            " 0.17030577 0.17063488 0.17094761 0.17124422 0.17152561 0.17179298\n",
            " 0.17204762 0.17229097 0.17252411 0.17274801]\n",
            "25 day output [[0.17296349]]\n",
            "26 day input [0.17645863 0.18540354 0.18377719 0.19190892 0.18987599 0.19028258\n",
            " 0.19394186 0.20004066 0.19638138 0.19495832 0.20349665 0.19597479\n",
            " 0.21162838 0.22036999 0.20979874 0.21528766 0.21589754 0.21610083\n",
            " 0.22748526 0.19150234 0.1833706  0.17340923 0.16751372 0.1622281\n",
            " 0.17056312 0.17462899 0.17930474 0.18174426 0.16853019 0.16548079\n",
            " 0.1742224  0.1713763  0.17300264 0.17157959 0.17767839 0.18459036\n",
            " 0.18702988 0.18987599 0.19109575 0.18581012 0.17015654 0.16751372\n",
            " 0.16974995 0.16609067 0.15531612 0.15003049 0.15064037 0.14860744\n",
            " 0.14596463 0.15043708 0.14413499 0.12441553 0.12827811 0.11547062\n",
            " 0.12034966 0.13478349 0.13498679 0.12868469 0.13295385 0.12807481\n",
            " 0.12624517 0.13051433 0.13905265 0.14718439 0.15104696 0.14515145\n",
            " 0.14311852 0.15816223 0.15328319 0.14921732 0.15531612 0.15917869\n",
            " 0.15938199 0.16344786 0.16312101 0.16454527 0.16532555 0.16586515\n",
            " 0.1662966  0.16667396 0.16702834 0.1673791  0.16773625 0.16810295\n",
            " 0.16847752 0.1688557  0.16923229 0.1696021  0.16996095 0.17030577\n",
            " 0.17063488 0.17094761 0.17124422 0.17152561 0.17179298 0.17204762\n",
            " 0.17229097 0.17252411 0.17274801 0.17296349]\n",
            "26 day output [[0.17317106]]\n",
            "27 day input [0.18540354 0.18377719 0.19190892 0.18987599 0.19028258 0.19394186\n",
            " 0.20004066 0.19638138 0.19495832 0.20349665 0.19597479 0.21162838\n",
            " 0.22036999 0.20979874 0.21528766 0.21589754 0.21610083 0.22748526\n",
            " 0.19150234 0.1833706  0.17340923 0.16751372 0.1622281  0.17056312\n",
            " 0.17462899 0.17930474 0.18174426 0.16853019 0.16548079 0.1742224\n",
            " 0.1713763  0.17300264 0.17157959 0.17767839 0.18459036 0.18702988\n",
            " 0.18987599 0.19109575 0.18581012 0.17015654 0.16751372 0.16974995\n",
            " 0.16609067 0.15531612 0.15003049 0.15064037 0.14860744 0.14596463\n",
            " 0.15043708 0.14413499 0.12441553 0.12827811 0.11547062 0.12034966\n",
            " 0.13478349 0.13498679 0.12868469 0.13295385 0.12807481 0.12624517\n",
            " 0.13051433 0.13905265 0.14718439 0.15104696 0.14515145 0.14311852\n",
            " 0.15816223 0.15328319 0.14921732 0.15531612 0.15917869 0.15938199\n",
            " 0.16344786 0.16312101 0.16454527 0.16532555 0.16586515 0.1662966\n",
            " 0.16667396 0.16702834 0.1673791  0.16773625 0.16810295 0.16847752\n",
            " 0.1688557  0.16923229 0.1696021  0.16996095 0.17030577 0.17063488\n",
            " 0.17094761 0.17124422 0.17152561 0.17179298 0.17204762 0.17229097\n",
            " 0.17252411 0.17274801 0.17296349 0.17317106]\n",
            "27 day output [[0.17337106]]\n",
            "[[0.16312101483345032], [0.16454526782035828], [0.16532555222511292], [0.16586515307426453], [0.1662966012954712], [0.1666739583015442], [0.16702833771705627], [0.16737909615039825], [0.1677362471818924], [0.1681029498577118], [0.16847752034664154], [0.1688556969165802], [0.1692322939634323], [0.16960209608078003], [0.16996094584465027], [0.1703057736158371], [0.17063488066196442], [0.1709476113319397], [0.17124421894550323], [0.17152561247348785], [0.17179298400878906], [0.17204761505126953], [0.17229096591472626], [0.1725241094827652], [0.17274801433086395], [0.172963485121727], [0.1731710582971573], [0.1733710616827011]]\n"
          ]
        }
      ]
    },
    {
      "cell_type": "code",
      "source": [
        "day_new = np.arange(1,101)\n",
        "day_pred = np.arange(101,129)"
      ],
      "metadata": {
        "id": "-Y8dLOixhGda"
      },
      "execution_count": null,
      "outputs": []
    },
    {
      "cell_type": "code",
      "source": [
        "day_new.shape"
      ],
      "metadata": {
        "colab": {
          "base_uri": "https://localhost:8080/"
        },
        "id": "N2MAhsEwhNLv",
        "outputId": "ededb00f-70b7-4666-8bf2-b6de7bfc9a7e"
      },
      "execution_count": null,
      "outputs": [
        {
          "output_type": "execute_result",
          "data": {
            "text/plain": [
              "(100,)"
            ]
          },
          "metadata": {},
          "execution_count": 37
        }
      ]
    },
    {
      "cell_type": "code",
      "source": [
        "day_pred.shape"
      ],
      "metadata": {
        "colab": {
          "base_uri": "https://localhost:8080/"
        },
        "id": "iUZTqMSLhWSY",
        "outputId": "b3b296b0-3cd8-477a-f655-bfe2703fad33"
      },
      "execution_count": null,
      "outputs": [
        {
          "output_type": "execute_result",
          "data": {
            "text/plain": [
              "(28,)"
            ]
          },
          "metadata": {},
          "execution_count": 38
        }
      ]
    },
    {
      "cell_type": "code",
      "source": [
        "len(df_high)"
      ],
      "metadata": {
        "colab": {
          "base_uri": "https://localhost:8080/"
        },
        "id": "ekmbdTxmhZUY",
        "outputId": "174fdb58-0bc6-4c55-e8f2-a29e728eb02a"
      },
      "execution_count": null,
      "outputs": [
        {
          "output_type": "execute_result",
          "data": {
            "text/plain": [
              "2035"
            ]
          },
          "metadata": {},
          "execution_count": 39
        }
      ]
    },
    {
      "cell_type": "code",
      "source": [
        "plt.plot(day_new, scaler.inverse_transform(df_high[1935:]))\n",
        "plt.plot(day_pred, scaler.inverse_transform(lst_output))"
      ],
      "metadata": {
        "colab": {
          "base_uri": "https://localhost:8080/",
          "height": 285
        },
        "id": "3s67J57_hbPR",
        "outputId": "736051d3-85de-416d-8577-006e0d7ecbf0"
      },
      "execution_count": null,
      "outputs": [
        {
          "output_type": "execute_result",
          "data": {
            "text/plain": [
              "[<matplotlib.lines.Line2D at 0x7f2b30e2b850>]"
            ]
          },
          "metadata": {},
          "execution_count": 40
        },
        {
          "output_type": "display_data",
          "data": {
            "text/plain": [
              "<Figure size 432x288 with 1 Axes>"
            ],
            "image/png": "[encoded data removed]"
          },
          "metadata": {
            "needs_background": "light"
          }
        }
      ]
    },
    {
      "cell_type": "code",
      "source": [
        "data_new = df_high.tolist()\n",
        "data_new.extend(lst_output)\n",
        "plt.plot(data_new[2000:])"
      ],
      "metadata": {
        "colab": {
          "base_uri": "https://localhost:8080/",
          "height": 282
        },
        "id": "xdL4PHNDhehk",
        "outputId": "86faed35-c6a7-4c53-c2c5-4691a76ebfae"
      },
      "execution_count": null,
      "outputs": [
        {
          "output_type": "execute_result",
          "data": {
            "text/plain": [
              "[<matplotlib.lines.Line2D at 0x7f2b30ed6ca0>]"
            ]
          },
          "metadata": {},
          "execution_count": 41
        },
        {
          "output_type": "display_data",
          "data": {
            "text/plain": [
              "<Figure size 432x288 with 1 Axes>"
            ],
            "image/png": "[encoded data removed]"
          },
          "metadata": {
            "needs_background": "light"
          }
        }
      ]
    },
    {
      "cell_type": "code",
      "source": [
        "data_new =scaler.inverse_transform(data_new).tolist()"
      ],
      "metadata": {
        "id": "V50p6Wh9hhv_"
      },
      "execution_count": null,
      "outputs": []
    },
    {
      "cell_type": "code",
      "source": [
        "plt.plot(data_new)"
      ],
      "metadata": {
        "colab": {
          "base_uri": "https://localhost:8080/",
          "height": 282
        },
        "id": "xAEiYVCEhkJO",
        "outputId": "3054edcd-c5e4-4061-c25a-8472e582aaf4"
      },
      "execution_count": null,
      "outputs": [
        {
          "output_type": "execute_result",
          "data": {
            "text/plain": [
              "[<matplotlib.lines.Line2D at 0x7f2b30cf25b0>]"
            ]
          },
          "metadata": {},
          "execution_count": 43
        },
        {
          "output_type": "display_data",
          "data": {
            "text/plain": [
              "<Figure size 432x288 with 1 Axes>"
            ],
            "image/png": "[encoded data removed]"
          },
          "metadata": {
            "needs_background": "light"
          }
        }
      ]
    }
  ]
}